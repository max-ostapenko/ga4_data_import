{
  "cells": [
    {
      "attachments": {},
      "cell_type": "markdown",
      "metadata": {
        "colab_type": "text",
        "id": "view-in-github"
      },
      "source": [
        "<a href=\"https://colab.research.google.com/github/max-ostapenko/ga4_data_import/blob/main/GA4_Data_Import_from_Google_Cloud_Storage copy.ipynb\" target=\"_parent\"><img src=\"https://colab.research.google.com/assets/colab-badge.svg\" alt=\"Open In Colab\"/></a>"
      ]
    },
    {
      "cell_type": "markdown",
      "metadata": {
        "id": "ly37FrEq-RjN"
      },
      "source": [
        "## 1 Start with documentation\n",
        "Read [the official documentation](https://support.google.com/analytics/answer/10071301) to have an idea about features and limitations of GA4 data import.\n"
      ]
    },
    {
      "cell_type": "markdown",
      "metadata": {
        "id": "4ePDtlq_6Abq"
      },
      "source": [
        "## 2 Create a Data Source in [GA4 Admin Panel](https://analytics.google.com/analytics/web/#/admin/data-import/)\n",
        "\n",
        "0. Follow [the guide on configuring SFTP data source](https://support.google.com/analytics/answer/10071301#import)"
      ]
    },
    {
      "cell_type": "code",
      "execution_count": 1,
      "metadata": {
        "cellView": "form",
        "id": "HJpZb63S7SqI"
      },
      "outputs": [
        {
          "name": "stdout",
          "output_type": "stream",
          "text": [
            "Updated property [core/project].\n"
          ]
        },
        {
          "ename": "TypeError",
          "evalue": "Parameter to MergeFrom() must be instance of same class: expected <class 'NetworkInterface'> got <class 'str'>.",
          "output_type": "error",
          "traceback": [
            "\u001b[0;31m---------------------------------------------------------------------------\u001b[0m",
            "\u001b[0;31mTypeError\u001b[0m                                 Traceback (most recent call last)",
            "File \u001b[0;32m~/.local/lib/python3.9/site-packages/proto/marshal/rules/message.py:36\u001b[0m, in \u001b[0;36mMessageRule.to_proto\u001b[0;34m(self, value)\u001b[0m\n\u001b[1;32m     34\u001b[0m \u001b[39mtry\u001b[39;00m:\n\u001b[1;32m     35\u001b[0m     \u001b[39m# Try the fast path first.\u001b[39;00m\n\u001b[0;32m---> 36\u001b[0m     \u001b[39mreturn\u001b[39;00m \u001b[39mself\u001b[39;49m\u001b[39m.\u001b[39;49m_descriptor(\u001b[39m*\u001b[39;49m\u001b[39m*\u001b[39;49mvalue)\n\u001b[1;32m     37\u001b[0m \u001b[39mexcept\u001b[39;00m \u001b[39mTypeError\u001b[39;00m \u001b[39mas\u001b[39;00m ex:\n\u001b[1;32m     38\u001b[0m     \u001b[39m# If we have a type error,\u001b[39;00m\n\u001b[1;32m     39\u001b[0m     \u001b[39m# try the slow path in case the error\u001b[39;00m\n\u001b[1;32m     40\u001b[0m     \u001b[39m# was an int64/string issue\u001b[39;00m\n",
            "\u001b[0;31mTypeError\u001b[0m: Parameter to MergeFrom() must be instance of same class: expected <class 'NetworkInterface'> got <class 'str'>.",
            "\nDuring handling of the above exception, another exception occurred:\n",
            "\u001b[0;31mTypeError\u001b[0m                                 Traceback (most recent call last)",
            "Cell \u001b[0;32mIn[1], line 20\u001b[0m\n\u001b[1;32m     15\u001b[0m     auth\u001b[39m.\u001b[39mauthenticate_user()\n\u001b[1;32m     16\u001b[0m \u001b[39m#else:\u001b[39;00m\n\u001b[1;32m     17\u001b[0m     \u001b[39m#!gcloud auth application-default login\u001b[39;00m\n\u001b[0;32m---> 20\u001b[0m INSTANCE_IP \u001b[39m=\u001b[39m create_instance(\n\u001b[1;32m     21\u001b[0m     project_id\u001b[39m=\u001b[39;49mGCP_PROJECT_ID,\n\u001b[1;32m     22\u001b[0m     zone\u001b[39m=\u001b[39;49mZONE,\n\u001b[1;32m     23\u001b[0m     instance_name\u001b[39m=\u001b[39;49mINSTANCE_NAME,\n\u001b[1;32m     24\u001b[0m     sftp_username\u001b[39m=\u001b[39;49mSFTP_USERNAME,\n\u001b[1;32m     25\u001b[0m     bucket_name\u001b[39m=\u001b[39;49mBUCKET_NAME\n\u001b[1;32m     26\u001b[0m )\n\u001b[1;32m     28\u001b[0m \u001b[39m# Give READ access to a bucket to default VM Service Account\u001b[39;00m\n\u001b[1;32m     29\u001b[0m \u001b[39m#!gcloud storage buckets add-iam-policy-binding gs://{BUCKET_NAME} \\\u001b[39;00m\n\u001b[1;32m     30\u001b[0m \u001b[39m#    --member=serviceAccount:{PROJECT_NUMBER}-compute@developer.gserviceaccount.com \\\u001b[39;00m\n\u001b[1;32m     31\u001b[0m \u001b[39m#    --role=roles/storage.objectViewer \\\u001b[39;00m\n\u001b[1;32m     32\u001b[0m \u001b[39m#    --no-user-output-enabled\u001b[39;00m\n\u001b[1;32m     34\u001b[0m SFTP_URL \u001b[39m=\u001b[39m \u001b[39mf\u001b[39m\u001b[39m\"\u001b[39m\u001b[39msftp://\u001b[39m\u001b[39m{\u001b[39;00mINSTANCE_IP\u001b[39m}\u001b[39;00m\u001b[39m/123456789/cost_data/000000000000.csv\u001b[39m\u001b[39m\"\u001b[39m\n",
            "File \u001b[0;32m/workspaces/ga4_data_import/ga4_data_import/compute.py:159\u001b[0m, in \u001b[0;36mcreate_instance\u001b[0;34m(instance_name, project_id, zone, sftp_username, bucket_name)\u001b[0m\n\u001b[1;32m    110\u001b[0m     metadata \u001b[39m=\u001b[39m {\n\u001b[1;32m    111\u001b[0m         \u001b[39m\"\u001b[39m\u001b[39mstartup-script\u001b[39m\u001b[39m\"\u001b[39m: \u001b[39mf\u001b[39m\u001b[39m\"\"\"\u001b[39m\n\u001b[1;32m    112\u001b[0m \u001b[39m#!/bin/bash\u001b[39m\n\u001b[0;32m   (...)\u001b[0m\n\u001b[1;32m    155\u001b[0m \u001b[39msudo -u $sftp_username gcsfuse $bucket_name /home/$sftp_username/sftp\u001b[39m\u001b[39m\"\"\"\u001b[39m\n\u001b[1;32m    156\u001b[0m     }\n\u001b[1;32m    158\u001b[0m     \u001b[39m# Create the instance\u001b[39;00m\n\u001b[0;32m--> 159\u001b[0m     operation \u001b[39m=\u001b[39m client\u001b[39m.\u001b[39;49minsert(request\u001b[39m=\u001b[39;49mrequest, metadata\u001b[39m=\u001b[39;49mmetadata)\n\u001b[1;32m    161\u001b[0m     \u001b[39m# Wait for the operation to complete\u001b[39;00m\n\u001b[1;32m    162\u001b[0m     wait_for_operation(operation, project_id)\n",
            "File \u001b[0;32m~/.local/lib/python3.9/site-packages/google/cloud/compute_v1/services/instances/client.py:3188\u001b[0m, in \u001b[0;36mInstancesClient.insert\u001b[0;34m(self, request, project, zone, instance_resource, retry, timeout, metadata)\u001b[0m\n\u001b[1;32m   3183\u001b[0m \u001b[39m# Minor optimization to avoid making a copy if the user passes\u001b[39;00m\n\u001b[1;32m   3184\u001b[0m \u001b[39m# in a compute.InsertInstanceRequest.\u001b[39;00m\n\u001b[1;32m   3185\u001b[0m \u001b[39m# There's no risk of modifying the input as we've already verified\u001b[39;00m\n\u001b[1;32m   3186\u001b[0m \u001b[39m# there are no flattened fields.\u001b[39;00m\n\u001b[1;32m   3187\u001b[0m \u001b[39mif\u001b[39;00m \u001b[39mnot\u001b[39;00m \u001b[39misinstance\u001b[39m(request, compute\u001b[39m.\u001b[39mInsertInstanceRequest):\n\u001b[0;32m-> 3188\u001b[0m     request \u001b[39m=\u001b[39m compute\u001b[39m.\u001b[39;49mInsertInstanceRequest(request)\n\u001b[1;32m   3189\u001b[0m     \u001b[39m# If we have keyword arguments corresponding to fields on the\u001b[39;00m\n\u001b[1;32m   3190\u001b[0m     \u001b[39m# request, apply these.\u001b[39;00m\n\u001b[1;32m   3191\u001b[0m     \u001b[39mif\u001b[39;00m project \u001b[39mis\u001b[39;00m \u001b[39mnot\u001b[39;00m \u001b[39mNone\u001b[39;00m:\n",
            "File \u001b[0;32m~/.local/lib/python3.9/site-packages/proto/message.py:570\u001b[0m, in \u001b[0;36mMessage.__init__\u001b[0;34m(self, mapping, ignore_unknown_fields, **kwargs)\u001b[0m\n\u001b[1;32m    565\u001b[0m     \u001b[39mraise\u001b[39;00m \u001b[39mValueError\u001b[39;00m(\n\u001b[1;32m    566\u001b[0m         \u001b[39m\"\u001b[39m\u001b[39mUnknown field for \u001b[39m\u001b[39m{}\u001b[39;00m\u001b[39m: \u001b[39m\u001b[39m{}\u001b[39;00m\u001b[39m\"\u001b[39m\u001b[39m.\u001b[39mformat(\u001b[39mself\u001b[39m\u001b[39m.\u001b[39m\u001b[39m__class__\u001b[39m\u001b[39m.\u001b[39m\u001b[39m__name__\u001b[39m, key)\n\u001b[1;32m    567\u001b[0m     )\n\u001b[1;32m    569\u001b[0m \u001b[39mtry\u001b[39;00m:\n\u001b[0;32m--> 570\u001b[0m     pb_value \u001b[39m=\u001b[39m marshal\u001b[39m.\u001b[39;49mto_proto(pb_type, value)\n\u001b[1;32m    571\u001b[0m \u001b[39mexcept\u001b[39;00m \u001b[39mValueError\u001b[39;00m:\n\u001b[1;32m    572\u001b[0m     \u001b[39m# Underscores may be appended to field names\u001b[39;00m\n\u001b[1;32m    573\u001b[0m     \u001b[39m# that collide with python or proto-plus keywords.\u001b[39;00m\n\u001b[0;32m   (...)\u001b[0m\n\u001b[1;32m    577\u001b[0m     \u001b[39m# See related issue\u001b[39;00m\n\u001b[1;32m    578\u001b[0m     \u001b[39m# https://github.com/googleapis/python-api-core/issues/227\u001b[39;00m\n\u001b[1;32m    579\u001b[0m     \u001b[39mif\u001b[39;00m \u001b[39misinstance\u001b[39m(value, \u001b[39mdict\u001b[39m):\n",
            "File \u001b[0;32m~/.local/lib/python3.9/site-packages/proto/marshal/marshal.py:217\u001b[0m, in \u001b[0;36mBaseMarshal.to_proto\u001b[0;34m(self, proto_type, value, strict)\u001b[0m\n\u001b[1;32m    215\u001b[0m \u001b[39m# Convert ordinary values.\u001b[39;00m\n\u001b[1;32m    216\u001b[0m rule \u001b[39m=\u001b[39m \u001b[39mself\u001b[39m\u001b[39m.\u001b[39m_rules\u001b[39m.\u001b[39mget(proto_type, \u001b[39mself\u001b[39m\u001b[39m.\u001b[39m_noop)\n\u001b[0;32m--> 217\u001b[0m pb_value \u001b[39m=\u001b[39m rule\u001b[39m.\u001b[39;49mto_proto(value)\n\u001b[1;32m    219\u001b[0m \u001b[39m# Sanity check: If we are in strict mode, did we get the value we want?\u001b[39;00m\n\u001b[1;32m    220\u001b[0m \u001b[39mif\u001b[39;00m strict \u001b[39mand\u001b[39;00m \u001b[39mnot\u001b[39;00m \u001b[39misinstance\u001b[39m(pb_value, proto_type):\n",
            "File \u001b[0;32m~/.local/lib/python3.9/site-packages/proto/marshal/rules/message.py:41\u001b[0m, in \u001b[0;36mMessageRule.to_proto\u001b[0;34m(self, value)\u001b[0m\n\u001b[1;32m     36\u001b[0m         \u001b[39mreturn\u001b[39;00m \u001b[39mself\u001b[39m\u001b[39m.\u001b[39m_descriptor(\u001b[39m*\u001b[39m\u001b[39m*\u001b[39mvalue)\n\u001b[1;32m     37\u001b[0m     \u001b[39mexcept\u001b[39;00m \u001b[39mTypeError\u001b[39;00m \u001b[39mas\u001b[39;00m ex:\n\u001b[1;32m     38\u001b[0m         \u001b[39m# If we have a type error,\u001b[39;00m\n\u001b[1;32m     39\u001b[0m         \u001b[39m# try the slow path in case the error\u001b[39;00m\n\u001b[1;32m     40\u001b[0m         \u001b[39m# was an int64/string issue\u001b[39;00m\n\u001b[0;32m---> 41\u001b[0m         \u001b[39mreturn\u001b[39;00m \u001b[39mself\u001b[39;49m\u001b[39m.\u001b[39;49m_wrapper(value)\u001b[39m.\u001b[39m_pb\n\u001b[1;32m     42\u001b[0m \u001b[39mreturn\u001b[39;00m value\n",
            "File \u001b[0;32m~/.local/lib/python3.9/site-packages/proto/message.py:604\u001b[0m, in \u001b[0;36mMessage.__init__\u001b[0;34m(self, mapping, ignore_unknown_fields, **kwargs)\u001b[0m\n\u001b[1;32m    601\u001b[0m         params[key] \u001b[39m=\u001b[39m pb_value\n\u001b[1;32m    603\u001b[0m \u001b[39m# Create the internal protocol buffer.\u001b[39;00m\n\u001b[0;32m--> 604\u001b[0m \u001b[39msuper\u001b[39m()\u001b[39m.\u001b[39m\u001b[39m__setattr__\u001b[39m(\u001b[39m\"\u001b[39m\u001b[39m_pb\u001b[39m\u001b[39m\"\u001b[39m, \u001b[39mself\u001b[39;49m\u001b[39m.\u001b[39;49m_meta\u001b[39m.\u001b[39;49mpb(\u001b[39m*\u001b[39;49m\u001b[39m*\u001b[39;49mparams))\n",
            "\u001b[0;31mTypeError\u001b[0m: Parameter to MergeFrom() must be instance of same class: expected <class 'NetworkInterface'> got <class 'str'>."
          ]
        }
      ],
      "source": [
        "# @markdown 1. Get your SFTP server url by hitting RUN and deploying VM Instance\n",
        "import os\n",
        "from ga4_data_import.compute import create_instance, add_shh_pub_key\n",
        "\n",
        "GCP_PROJECT_ID = 'max-ostapenko'  #@param {type: \"string\"}\n",
        "ZONE = 'us-central1-a' #@param {type: \"string\"}\n",
        "INSTANCE_NAME = 'sftp-server' #@param {type: \"string\"}\n",
        "SFTP_USERNAME = 'sftp_user' #@param {type: \"string\"}\n",
        "#@markdown 2. Enter the name of your Google Cloud Storage Bucket\n",
        "BUCKET_NAME = 'sftp-server-ga4' #@param {type: \"string\"}\n",
        "\n",
        "!gcloud config set project {GCP_PROJECT_ID}\n",
        "if os.getenv(\"COLAB_RELEASE_TAG\"):\n",
        "    from google.colab import auth\n",
        "    auth.authenticate_user()\n",
        "#else:\n",
        "    #!gcloud auth application-default login\n",
        "\n",
        "\n",
        "INSTANCE_IP = create_instance(\n",
        "    project_id=GCP_PROJECT_ID,\n",
        "    zone=ZONE,\n",
        "    instance_name=INSTANCE_NAME,\n",
        "    sftp_username=SFTP_USERNAME,\n",
        "    bucket_name=BUCKET_NAME\n",
        ")\n",
        "\n",
        "# Give READ access to a bucket to default VM Service Account\n",
        "#!gcloud storage buckets add-iam-policy-binding gs://{BUCKET_NAME} \\\n",
        "#    --member=serviceAccount:{PROJECT_NUMBER}-compute@developer.gserviceaccount.com \\\n",
        "#    --role=roles/storage.objectViewer \\\n",
        "#    --no-user-output-enabled\n",
        "\n",
        "SFTP_URL = f\"sftp://{INSTANCE_IP}/123456789/cost_data/000000000000.csv\"\n",
        "\n",
        "print(f\"\"\"\\nNow you can enter your SFTP server url:\n",
        "    {SFTP_URL}\n",
        "Path example, where:\n",
        "- 123456789 - your property ID\n",
        "- cost_data - name of your data source\n",
        "- 000000000000.csv - file with data\"\"\")"
      ]
    },
    {
      "cell_type": "code",
      "execution_count": null,
      "metadata": {
        "cellView": "form",
        "id": "vAU86JRlTTsC"
      },
      "outputs": [],
      "source": [
        "#@markdown 3. Paste and push Public Key from GA4 to SFTP server for authorisation\n",
        "KEY_VALUE = \"ssh-rsa AAAAB3NzaC1yc2EAAAADAQABAAABgQDeDrtHfPb8TM6/BqANwQJdSmAGjygLE+2jMdIxfJZFRdcEogMLMrEARhzj9fjRQKw7RhudOpxkyvMjVRXlv6zvcbvmJhQCxk6yp3Cgq3U7ux2PYppBWSxei1R4DH2TSjy/k/7nuKDvdDaBwUC/WLOgjvQ5nKLbYp53RbWoPrv63YEDDEyuLjMww9rlJ+J9iL/fd1TxlZxvwVvPCxweWCzfQfLP6MWGvDmUMfe7eTg11rt3p/wdNUa/RxKC1HOJRWloGCw7dX5LgZYoCq8tKOS8rpHt8BoTFhKjoPsIw8h4uNsjOb9y6YSOQrQFaXj3o2l4X0ssLxkKQcaG+EDZ8PtUr/WnuPpfHCuTNN1Q6TnaF2t2zm4J7C6LchPMgiP/vO+wwloQpgg9tUVGC4FZxQhHTLmCoW+19KIuBu4nm+zgaeIWXuHfnPLE4UdFsIB3o76tAfZprrykjaWVLPc6PFVlvRx1PIAPTL7dHaajnv1rxuQdQlNU2a2dOE4KNoxnffE= Google Analytics Data Import Key\"  #@param {type: \"string\"}\n",
        "add_shh_pub_key(KEY_VALUE)\n",
        "\n",
        "LOCAL_KEY = \"ssh-rsa AAAAB3NzaC1yc2EAAAADAQABAAACAQDIjG9uMbjXCMmJ6oLlI5rVlbm+eY2Ur42fCE542NAGwR64lEYmv2LkxPRzFnVU2mdF6+Ka4D8UyjM6D3fVkNfqQH8ckthcoMEgCNNK6tSU690I5YXAfGvCstGnljG4MwUWHkCFGXntqHPVnWjRfe0M88CusqazLy06VOr5hdfjTUXyxbyy4vx3kzBXE2oBXl0UZ33fI0/jHG3u6PULZ9kYu8jCXnNGp2b3ntgsMhitWTfj4GiSZF5wf6t4qDupgaW6OCrLJkgq9WS4OFdM4ZyHJadRff7KyHjsjtFoXzHOxhCrk4gj484HO86QyoA8jJE92o6k7OuVP9/Dl/w5n2jRtsvj0Fx2UJM3LH57XvflWWKOvfoYXl1v0Li78xnzLIgwDi282CHh31NNlbdm0Ux8AQXuQlLWd4R13sleLmdpqpcvrkCHktpvOIOvndar311CsPW3AvnHxNOKNAaJfE1UcP45AJ5TU6DrRJj9gAi+AJ/iET9W5XtKJOIk8JtHX6TwCXlSloZgPf+LOOscnYb5EQO93LCSyHQVwXuF35hV9DPFTXM+PUdhZCaPLwETjnoP8pQMYg1h8B6hCY9cXWlZQpxDyx4TUP/8vRuizX2oR5rLDG7p0P8x+IX6NtnuCQNockzl6DqXup/4o8SNVPHbC7Dv9uD9/zm9Pz7BK8TA+Q==\"\n",
        "add_shh_pub_key(LOCAL_KEY)"
      ]
    },
    {
      "cell_type": "markdown",
      "metadata": {
        "id": "lOtvsqDlUZLZ"
      },
      "source": [
        "## 3 Test your SFTP server connention\n",
        "\n",
        "1. Open [Google Cloud Shell terminal](https://shell.cloud.google.com/)\n",
        "\n",
        "2. Authorise local SSH Key on the server\n",
        "2. Connect to SFTP server\n",
        "3. Show available files"
      ]
    },
    {
      "cell_type": "code",
      "execution_count": null,
      "metadata": {
        "id": "mmYt0lY6UUoy"
      },
      "outputs": [],
      "source": [
        "#@markdown Press RUN\n",
        "if not os.path.isfile(\"/root/.ssh/id_rsa\"):\n",
        "    !ssh-keygen -t rsa -b 4096 -f ~/.ssh/id_rsa -N '' -q\n",
        "[colab_sshpubkey] = !cat ~/.ssh/id_rsa.pub | awk '{print $1\" \"$2}'\n",
        "add_shh_pub_key(colab_sshpubkey + \" Google Colab\")\n",
        "!ssh-keygen -R {INSTANCE_IP}\n",
        "!sftp -v {SFTP_USERNAME}@{INSTANCE_IP}"
      ]
    }
  ],
  "metadata": {
    "colab": {
      "authorship_tag": "ABX9TyMaKr2JbUZfrAnXN73inaUk",
      "include_colab_link": true,
      "private_outputs": true,
      "provenance": [],
      "toc_visible": true
    },
    "kernelspec": {
      "display_name": "Python 3",
      "name": "python3"
    },
    "language_info": {
      "codemirror_mode": {
        "name": "ipython",
        "version": 3
      },
      "file_extension": ".py",
      "mimetype": "text/x-python",
      "name": "python",
      "nbconvert_exporter": "python",
      "pygments_lexer": "ipython3",
      "version": "3.9.2"
    }
  },
  "nbformat": 4,
  "nbformat_minor": 0
}
