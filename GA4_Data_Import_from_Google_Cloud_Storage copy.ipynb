{
  "cells": [
    {
      "attachments": {},
      "cell_type": "markdown",
      "metadata": {
        "colab_type": "text",
        "id": "view-in-github"
      },
      "source": [
        "<a href=\"https://colab.research.google.com/github/max-ostapenko/ga4_data_import/blob/main/GA4_Data_Import_from_Google_Cloud_Storage copy.ipynb\" target=\"_parent\"><img src=\"https://colab.research.google.com/assets/colab-badge.svg\" alt=\"Open In Colab\"/></a>"
      ]
    },
    {
      "cell_type": "markdown",
      "metadata": {
        "id": "ly37FrEq-RjN"
      },
      "source": [
        "## 1 Start with documentation\n",
        "Read [the official documentation](https://support.google.com/analytics/answer/10071301) to have an idea about features and limitations of GA4 data import.\n"
      ]
    },
    {
      "cell_type": "markdown",
      "metadata": {
        "id": "4ePDtlq_6Abq"
      },
      "source": [
        "## 2 Create a Data Source in [GA4 Admin Panel](https://analytics.google.com/analytics/web/#/admin/data-import/)\n",
        "\n",
        "0. Follow [the guide on configuring SFTP data source](https://support.google.com/analytics/answer/10071301#import)"
      ]
    },
    {
      "cell_type": "code",
      "execution_count": null,
      "metadata": {
        "cellView": "form",
        "id": "HJpZb63S7SqI"
      },
      "outputs": [],
      "source": [
        "# @markdown 1. Get your SFTP server url by hitting RUN and deploying VM Instance\n",
        "import os\n",
        "from ga4_data_import.compute import create_instance\n",
        "from ga4_data_import.storage import add_bucket_read_access\n",
        "\n",
        "GCP_PROJECT_ID = 'max-ostapenko'  #@param {type: \"string\"}\n",
        "ZONE = 'us-central1-a' #@param {type: \"string\"}\n",
        "INSTANCE_NAME = 'sftp-server' #@param {type: \"string\"}\n",
        "SFTP_USERNAME = 'sftp_user' #@param {type: \"string\"}\n",
        "\n",
        "#@markdown 2. Enter the name of your Google Cloud Storage Bucket\n",
        "BUCKET_NAME = 'sftp-server-ga4' #@param {type: \"string\"}\n",
        "\n",
        "!gcloud config set project {GCP_PROJECT_ID}\n",
        "if os.getenv(\"COLAB_RELEASE_TAG\"):\n",
        "    from google.colab import auth\n",
        "    auth.authenticate_user()\n",
        "#else:\n",
        "    #!gcloud auth application-default login\n",
        "\n",
        "INSTANCE_IP = create_instance(\n",
        "    project_id=GCP_PROJECT_ID,\n",
        "    zone=ZONE,\n",
        "    instance_name=INSTANCE_NAME,\n",
        "    sftp_username=SFTP_USERNAME,\n",
        "    bucket_name=BUCKET_NAME\n",
        ")\n",
        "\n",
        "# Give READ access to a bucket to default VM Service Account\n",
        "# add_bucket_read_access(GCP_PROJECT_ID, BUCKET_NAME)\n",
        "\n",
        "SFTP_URL = f\"sftp://{INSTANCE_IP}/123456789/cost_data/000000000000.csv\"\n",
        "print(f\"\"\"\\n\n",
        "Now you can enter your SFTP server url:\n",
        "    {SFTP_URL}\n",
        "Path example, where:\n",
        "- 123456789 - your property ID\n",
        "- cost_data - name of your data source\n",
        "- 000000000000.csv - file with data\"\"\")"
      ]
    },
    {
      "cell_type": "code",
      "execution_count": null,
      "metadata": {
        "cellView": "form",
        "id": "vAU86JRlTTsC"
      },
      "outputs": [],
      "source": [
        "from ga4_data_import.compute import add_shh_pub_key\n",
        "\n",
        "# @markdown 3. Paste and push Public Key from GA4 to SFTP server for authorisation\n",
        "KEY_VALUE = \"ssh-rsa AAAAB3NzaC1yc2EAAAADAQABAAABgQDeDrtHfPb8TM6/BqANwQJdSmAGjygLE+2jMdIxfJZFRdcEogMLMrEARhzj9fjRQKw7RhudOpxkyvMjVRXlv6zvcbvmJhQCxk6yp3Cgq3U7ux2PYppBWSxei1R4DH2TSjy/k/7nuKDvdDaBwUC/WLOgjvQ5nKLbYp53RbWoPrv63YEDDEyuLjMww9rlJ+J9iL/fd1TxlZxvwVvPCxweWCzfQfLP6MWGvDmUMfe7eTg11rt3p/wdNUa/RxKC1HOJRWloGCw7dX5LgZYoCq8tKOS8rpHt8BoTFhKjoPsIw8h4uNsjOb9y6YSOQrQFaXj3o2l4X0ssLxkKQcaG+EDZ8PtUr/WnuPpfHCuTNN1Q6TnaF2t2zm4J7C6LchPMgiP/vO+wwloQpgg9tUVGC4FZxQhHTLmCoW+19KIuBu4nm+zgaeIWXuHfnPLE4UdFsIB3o76tAfZprrykjaWVLPc6PFVlvRx1PIAPTL7dHaajnv1rxuQdQlNU2a2dOE4KNoxnffE= Google Analytics Data Import Key\"  # @param {type: \"string\"}\n",
        "add_shh_pub_key(GCP_PROJECT_ID, ZONE, INSTANCE_NAME, SFTP_USERNAME, KEY_VALUE)\n",
        "\n",
        "LOCAL_KEY = \"ssh-rsa AAAAB3NzaC1yc2EAAAADAQABAAACAQDIjG9uMbjXCMmJ6oLlI5rVlbm+eY2Ur42fCE542NAGwR64lEYmv2LkxPRzFnVU2mdF6+Ka4D8UyjM6D3fVkNfqQH8ckthcoMEgCNNK6tSU690I5YXAfGvCstGnljG4MwUWHkCFGXntqHPVnWjRfe0M88CusqazLy06VOr5hdfjTUXyxbyy4vx3kzBXE2oBXl0UZ33fI0/jHG3u6PULZ9kYu8jCXnNGp2b3ntgsMhitWTfj4GiSZF5wf6t4qDupgaW6OCrLJkgq9WS4OFdM4ZyHJadRff7KyHjsjtFoXzHOxhCrk4gj484HO86QyoA8jJE92o6k7OuVP9/Dl/w5n2jRtsvj0Fx2UJM3LH57XvflWWKOvfoYXl1v0Li78xnzLIgwDi282CHh31NNlbdm0Ux8AQXuQlLWd4R13sleLmdpqpcvrkCHktpvOIOvndar311CsPW3AvnHxNOKNAaJfE1UcP45AJ5TU6DrRJj9gAi+AJ/iET9W5XtKJOIk8JtHX6TwCXlSloZgPf+LOOscnYb5EQO93LCSyHQVwXuF35hV9DPFTXM+PUdhZCaPLwETjnoP8pQMYg1h8B6hCY9cXWlZQpxDyx4TUP/8vRuizX2oR5rLDG7p0P8x+IX6NtnuCQNockzl6DqXup/4o8SNVPHbC7Dv9uD9/zm9Pz7BK8TA+Q==\"\n",
        "add_shh_pub_key(GCP_PROJECT_ID, ZONE, INSTANCE_NAME, SFTP_USERNAME, LOCAL_KEY)\n"
      ]
    },
    {
      "cell_type": "markdown",
      "metadata": {
        "id": "lOtvsqDlUZLZ"
      },
      "source": [
        "## 3 Test your SFTP server connention\n",
        "\n",
        "1. Open [Google Cloud Shell terminal](https://shell.cloud.google.com/)\n",
        "\n",
        "2. Authorise local SSH Key on the server\n",
        "2. Connect to SFTP server\n",
        "3. Show available files"
      ]
    },
    {
      "cell_type": "code",
      "execution_count": null,
      "metadata": {
        "id": "mmYt0lY6UUoy"
      },
      "outputs": [],
      "source": [
        "#@markdown Press RUN\n",
        "import os\n",
        "from ga4_data_import.common import read_pub_key\n",
        "from ga4_data_import.compute import add_shh_pub_key\n",
        "\n",
        "ssh_key_file = os.path.expanduser(\"~/.ssh/id_rsa.pub\")\n",
        "if not os.path.isfile(ssh_key_file):\n",
        "    !ssh-keygen -t rsa -b 4096 -f ~/.ssh/id_rsa -N '' -q\n",
        "colab_sshpubkey = read_pub_key(ssh_key_file)\n",
        "\n",
        "#add_shh_pub_key(colab_sshpubkey + \" Google Colab\")\n",
        "#!ssh-keygen -R {INSTANCE_IP}\n",
        "#!sftp -v {SFTP_USERNAME}@{INSTANCE_IP}"
      ]
    }
  ],
  "metadata": {
    "colab": {
      "authorship_tag": "ABX9TyMaKr2JbUZfrAnXN73inaUk",
      "include_colab_link": true,
      "private_outputs": true,
      "provenance": [],
      "toc_visible": true
    },
    "kernelspec": {
      "display_name": "Python 3",
      "name": "python3"
    },
    "language_info": {
      "codemirror_mode": {
        "name": "ipython",
        "version": 3
      },
      "file_extension": ".py",
      "mimetype": "text/x-python",
      "name": "python",
      "nbconvert_exporter": "python",
      "pygments_lexer": "ipython3",
      "version": "3.9.2"
    }
  },
  "nbformat": 4,
  "nbformat_minor": 0
}
