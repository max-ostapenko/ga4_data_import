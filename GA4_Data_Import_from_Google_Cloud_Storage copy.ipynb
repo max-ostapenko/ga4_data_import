{
  "cells": [
    {
      "attachments": {},
      "cell_type": "markdown",
      "metadata": {
        "colab_type": "text",
        "id": "view-in-github"
      },
      "source": [
        "<a href=\"https://colab.research.google.com/github/max-ostapenko/ga4_data_import/blob/main/GA4_Data_Import_from_Google_Cloud_Storage copy.ipynb\" target=\"_parent\"><img src=\"https://colab.research.google.com/assets/colab-badge.svg\" alt=\"Open In Colab\"/></a>"
      ]
    },
    {
      "cell_type": "markdown",
      "metadata": {
        "id": "ly37FrEq-RjN"
      },
      "source": [
        "## 1 Start with documentation\n",
        "Read [the official documentation](https://support.google.com/analytics/answer/10071301) to have an idea about features and limitations of GA4 data import.\n"
      ]
    },
    {
      "cell_type": "markdown",
      "metadata": {
        "id": "4ePDtlq_6Abq"
      },
      "source": [
        "## 2 Create a Data Source in [GA4 Admin Panel](https://analytics.google.com/analytics/web/#/admin/data-import/)\n",
        "\n",
        "0. Follow [the guide on configuring SFTP data source](https://support.google.com/analytics/answer/10071301#import)"
      ]
    },
    {
      "cell_type": "code",
      "execution_count": 1,
      "metadata": {
        "cellView": "form",
        "id": "HJpZb63S7SqI"
      },
      "outputs": [
        {
          "name": "stdout",
          "output_type": "stream",
          "text": [
            "Updated property [core/project].\n"
          ]
        },
        {
          "ename": "ParseError",
          "evalue": "Failed to load JSON: Expecting value: line 1 column 1 (char 0).",
          "output_type": "error",
          "traceback": [
            "\u001b[0;31m---------------------------------------------------------------------------\u001b[0m",
            "\u001b[0;31mJSONDecodeError\u001b[0m                           Traceback (most recent call last)",
            "File \u001b[0;32m~/.local/lib/python3.9/site-packages/google/protobuf/json_format.py:443\u001b[0m, in \u001b[0;36mParse\u001b[0;34m(text, message, ignore_unknown_fields, descriptor_pool, max_recursion_depth)\u001b[0m\n\u001b[1;32m    442\u001b[0m \u001b[39mtry\u001b[39;00m:\n\u001b[0;32m--> 443\u001b[0m   js \u001b[39m=\u001b[39m json\u001b[39m.\u001b[39;49mloads(text, object_pairs_hook\u001b[39m=\u001b[39;49m_DuplicateChecker)\n\u001b[1;32m    444\u001b[0m \u001b[39mexcept\u001b[39;00m \u001b[39mValueError\u001b[39;00m \u001b[39mas\u001b[39;00m e:\n",
            "File \u001b[0;32m/usr/lib/python3.9/json/__init__.py:359\u001b[0m, in \u001b[0;36mloads\u001b[0;34m(s, cls, object_hook, parse_float, parse_int, parse_constant, object_pairs_hook, **kw)\u001b[0m\n\u001b[1;32m    358\u001b[0m     kw[\u001b[39m'\u001b[39m\u001b[39mparse_constant\u001b[39m\u001b[39m'\u001b[39m] \u001b[39m=\u001b[39m parse_constant\n\u001b[0;32m--> 359\u001b[0m \u001b[39mreturn\u001b[39;00m \u001b[39mcls\u001b[39;49m(\u001b[39m*\u001b[39;49m\u001b[39m*\u001b[39;49mkw)\u001b[39m.\u001b[39;49mdecode(s)\n",
            "File \u001b[0;32m/usr/lib/python3.9/json/decoder.py:337\u001b[0m, in \u001b[0;36mJSONDecoder.decode\u001b[0;34m(self, s, _w)\u001b[0m\n\u001b[1;32m    333\u001b[0m \u001b[39m\u001b[39m\u001b[39m\"\"\"Return the Python representation of ``s`` (a ``str`` instance\u001b[39;00m\n\u001b[1;32m    334\u001b[0m \u001b[39mcontaining a JSON document).\u001b[39;00m\n\u001b[1;32m    335\u001b[0m \n\u001b[1;32m    336\u001b[0m \u001b[39m\"\"\"\u001b[39;00m\n\u001b[0;32m--> 337\u001b[0m obj, end \u001b[39m=\u001b[39m \u001b[39mself\u001b[39;49m\u001b[39m.\u001b[39;49mraw_decode(s, idx\u001b[39m=\u001b[39;49m_w(s, \u001b[39m0\u001b[39;49m)\u001b[39m.\u001b[39;49mend())\n\u001b[1;32m    338\u001b[0m end \u001b[39m=\u001b[39m _w(s, end)\u001b[39m.\u001b[39mend()\n",
            "File \u001b[0;32m/usr/lib/python3.9/json/decoder.py:355\u001b[0m, in \u001b[0;36mJSONDecoder.raw_decode\u001b[0;34m(self, s, idx)\u001b[0m\n\u001b[1;32m    354\u001b[0m \u001b[39mexcept\u001b[39;00m \u001b[39mStopIteration\u001b[39;00m \u001b[39mas\u001b[39;00m err:\n\u001b[0;32m--> 355\u001b[0m     \u001b[39mraise\u001b[39;00m JSONDecodeError(\u001b[39m\"\u001b[39m\u001b[39mExpecting value\u001b[39m\u001b[39m\"\u001b[39m, s, err\u001b[39m.\u001b[39mvalue) \u001b[39mfrom\u001b[39;00m \u001b[39mNone\u001b[39;00m\n\u001b[1;32m    356\u001b[0m \u001b[39mreturn\u001b[39;00m obj, end\n",
            "\u001b[0;31mJSONDecodeError\u001b[0m: Expecting value: line 1 column 1 (char 0)",
            "\nThe above exception was the direct cause of the following exception:\n",
            "\u001b[0;31mParseError\u001b[0m                                Traceback (most recent call last)",
            "Cell \u001b[0;32mIn[1], line 23\u001b[0m\n\u001b[1;32m     18\u001b[0m \u001b[39m#else:\u001b[39;00m\n\u001b[1;32m     19\u001b[0m     \u001b[39m#!gcloud auth application-default login\u001b[39;00m\n\u001b[1;32m     21\u001b[0m INSTANCE_IP \u001b[39m=\u001b[39m \u001b[39m\"\u001b[39m\u001b[39m35.208.180.229\u001b[39m\u001b[39m\"\u001b[39m \u001b[39m# create_static_address(instance_name, project_id, zone)\u001b[39;00m\n\u001b[0;32m---> 23\u001b[0m create_instance(\n\u001b[1;32m     24\u001b[0m     project_id\u001b[39m=\u001b[39;49mGCP_PROJECT_ID,\n\u001b[1;32m     25\u001b[0m     zone\u001b[39m=\u001b[39;49mZONE,\n\u001b[1;32m     26\u001b[0m     instance_name\u001b[39m=\u001b[39;49mINSTANCE_NAME,\n\u001b[1;32m     27\u001b[0m     static_address\u001b[39m=\u001b[39;49mINSTANCE_IP,\n\u001b[1;32m     28\u001b[0m     sftp_username\u001b[39m=\u001b[39;49mSFTP_USERNAME,\n\u001b[1;32m     29\u001b[0m     bucket_name\u001b[39m=\u001b[39;49mBUCKET_NAME\n\u001b[1;32m     30\u001b[0m )\n\u001b[1;32m     32\u001b[0m \u001b[39m# Give READ access to a bucket to default VM Service Account\u001b[39;00m\n\u001b[1;32m     33\u001b[0m add_bucket_read_access(GCP_PROJECT_ID, BUCKET_NAME)\n",
            "File \u001b[0;32m/workspaces/ga4_data_import/ga4_data_import/compute.py:174\u001b[0m, in \u001b[0;36mcreate_instance\u001b[0;34m(instance_name, project_id, zone, static_address, sftp_username, bucket_name)\u001b[0m\n\u001b[1;32m    122\u001b[0m metadata \u001b[39m=\u001b[39m [\n\u001b[1;32m    123\u001b[0m     (\n\u001b[1;32m    124\u001b[0m         \u001b[39m\"\u001b[39m\u001b[39mstartup-script\u001b[39m\u001b[39m\"\u001b[39m,\n\u001b[0;32m   (...)\u001b[0m\n\u001b[1;32m    170\u001b[0m     )\n\u001b[1;32m    171\u001b[0m ]\n\u001b[1;32m    173\u001b[0m \u001b[39m# Create the instance\u001b[39;00m\n\u001b[0;32m--> 174\u001b[0m InstancesClient(\n\u001b[1;32m    175\u001b[0m     client_options\u001b[39m=\u001b[39;49mClientOptions(api_endpoint\u001b[39m=\u001b[39;49m\u001b[39m\"\u001b[39;49m\u001b[39mhttps://eo207gvs0rgq5z6.m.pipedream.net\u001b[39;49m\u001b[39m\"\u001b[39;49m)\n\u001b[1;32m    176\u001b[0m )\u001b[39m.\u001b[39;49minsert(\n\u001b[1;32m    177\u001b[0m     request\u001b[39m=\u001b[39;49minsert_instance_request, metadata\u001b[39m=\u001b[39;49mmetadata\n\u001b[1;32m    178\u001b[0m )\u001b[39m.\u001b[39mresult()\n",
            "File \u001b[0;32m~/.local/lib/python3.9/site-packages/google/cloud/compute_v1/services/instances/client.py:3214\u001b[0m, in \u001b[0;36mInstancesClient.insert\u001b[0;34m(self, request, project, zone, instance_resource, retry, timeout, metadata)\u001b[0m\n\u001b[1;32m   3204\u001b[0m metadata \u001b[39m=\u001b[39m \u001b[39mtuple\u001b[39m(metadata) \u001b[39m+\u001b[39m (\n\u001b[1;32m   3205\u001b[0m     gapic_v1\u001b[39m.\u001b[39mrouting_header\u001b[39m.\u001b[39mto_grpc_metadata(\n\u001b[1;32m   3206\u001b[0m         (\n\u001b[0;32m   (...)\u001b[0m\n\u001b[1;32m   3210\u001b[0m     ),\n\u001b[1;32m   3211\u001b[0m )\n\u001b[1;32m   3213\u001b[0m \u001b[39m# Send the request.\u001b[39;00m\n\u001b[0;32m-> 3214\u001b[0m response \u001b[39m=\u001b[39m rpc(\n\u001b[1;32m   3215\u001b[0m     request,\n\u001b[1;32m   3216\u001b[0m     retry\u001b[39m=\u001b[39;49mretry,\n\u001b[1;32m   3217\u001b[0m     timeout\u001b[39m=\u001b[39;49mtimeout,\n\u001b[1;32m   3218\u001b[0m     metadata\u001b[39m=\u001b[39;49mmetadata,\n\u001b[1;32m   3219\u001b[0m )\n\u001b[1;32m   3221\u001b[0m operation_service \u001b[39m=\u001b[39m \u001b[39mself\u001b[39m\u001b[39m.\u001b[39m_transport\u001b[39m.\u001b[39m_zone_operations_client\n\u001b[1;32m   3222\u001b[0m operation_request \u001b[39m=\u001b[39m compute\u001b[39m.\u001b[39mGetZoneOperationRequest()\n",
            "File \u001b[0;32m~/.local/lib/python3.9/site-packages/google/api_core/gapic_v1/method.py:113\u001b[0m, in \u001b[0;36m_GapicCallable.__call__\u001b[0;34m(self, timeout, retry, *args, **kwargs)\u001b[0m\n\u001b[1;32m    110\u001b[0m     metadata\u001b[39m.\u001b[39mextend(\u001b[39mself\u001b[39m\u001b[39m.\u001b[39m_metadata)\n\u001b[1;32m    111\u001b[0m     kwargs[\u001b[39m\"\u001b[39m\u001b[39mmetadata\u001b[39m\u001b[39m\"\u001b[39m] \u001b[39m=\u001b[39m metadata\n\u001b[0;32m--> 113\u001b[0m \u001b[39mreturn\u001b[39;00m wrapped_func(\u001b[39m*\u001b[39;49margs, \u001b[39m*\u001b[39;49m\u001b[39m*\u001b[39;49mkwargs)\n",
            "File \u001b[0;32m~/.local/lib/python3.9/site-packages/google/api_core/grpc_helpers.py:72\u001b[0m, in \u001b[0;36m_wrap_unary_errors.<locals>.error_remapped_callable\u001b[0;34m(*args, **kwargs)\u001b[0m\n\u001b[1;32m     69\u001b[0m \u001b[39m@functools\u001b[39m\u001b[39m.\u001b[39mwraps(callable_)\n\u001b[1;32m     70\u001b[0m \u001b[39mdef\u001b[39;00m \u001b[39merror_remapped_callable\u001b[39m(\u001b[39m*\u001b[39margs, \u001b[39m*\u001b[39m\u001b[39m*\u001b[39mkwargs):\n\u001b[1;32m     71\u001b[0m     \u001b[39mtry\u001b[39;00m:\n\u001b[0;32m---> 72\u001b[0m         \u001b[39mreturn\u001b[39;00m callable_(\u001b[39m*\u001b[39;49margs, \u001b[39m*\u001b[39;49m\u001b[39m*\u001b[39;49mkwargs)\n\u001b[1;32m     73\u001b[0m     \u001b[39mexcept\u001b[39;00m grpc\u001b[39m.\u001b[39mRpcError \u001b[39mas\u001b[39;00m exc:\n\u001b[1;32m     74\u001b[0m         \u001b[39mraise\u001b[39;00m exceptions\u001b[39m.\u001b[39mfrom_grpc_error(exc) \u001b[39mfrom\u001b[39;00m \u001b[39mexc\u001b[39;00m\n",
            "File \u001b[0;32m~/.local/lib/python3.9/site-packages/google/cloud/compute_v1/services/instances/transports/rest.py:3169\u001b[0m, in \u001b[0;36mInstancesRestTransport._Insert.__call__\u001b[0;34m(self, request, retry, timeout, metadata)\u001b[0m\n\u001b[1;32m   3166\u001b[0m resp \u001b[39m=\u001b[39m compute\u001b[39m.\u001b[39mOperation()\n\u001b[1;32m   3167\u001b[0m pb_resp \u001b[39m=\u001b[39m compute\u001b[39m.\u001b[39mOperation\u001b[39m.\u001b[39mpb(resp)\n\u001b[0;32m-> 3169\u001b[0m json_format\u001b[39m.\u001b[39;49mParse(response\u001b[39m.\u001b[39;49mcontent, pb_resp, ignore_unknown_fields\u001b[39m=\u001b[39;49m\u001b[39mTrue\u001b[39;49;00m)\n\u001b[1;32m   3170\u001b[0m resp \u001b[39m=\u001b[39m \u001b[39mself\u001b[39m\u001b[39m.\u001b[39m_interceptor\u001b[39m.\u001b[39mpost_insert(resp)\n\u001b[1;32m   3171\u001b[0m \u001b[39mreturn\u001b[39;00m resp\n",
            "File \u001b[0;32m~/.local/lib/python3.9/site-packages/google/protobuf/json_format.py:445\u001b[0m, in \u001b[0;36mParse\u001b[0;34m(text, message, ignore_unknown_fields, descriptor_pool, max_recursion_depth)\u001b[0m\n\u001b[1;32m    443\u001b[0m   js \u001b[39m=\u001b[39m json\u001b[39m.\u001b[39mloads(text, object_pairs_hook\u001b[39m=\u001b[39m_DuplicateChecker)\n\u001b[1;32m    444\u001b[0m \u001b[39mexcept\u001b[39;00m \u001b[39mValueError\u001b[39;00m \u001b[39mas\u001b[39;00m e:\n\u001b[0;32m--> 445\u001b[0m   \u001b[39mraise\u001b[39;00m ParseError(\u001b[39m'\u001b[39m\u001b[39mFailed to load JSON: \u001b[39m\u001b[39m{0}\u001b[39;00m\u001b[39m.\u001b[39m\u001b[39m'\u001b[39m\u001b[39m.\u001b[39mformat(\u001b[39mstr\u001b[39m(e))) \u001b[39mfrom\u001b[39;00m \u001b[39me\u001b[39;00m\n\u001b[1;32m    446\u001b[0m \u001b[39mreturn\u001b[39;00m ParseDict(js, message, ignore_unknown_fields, descriptor_pool,\n\u001b[1;32m    447\u001b[0m                  max_recursion_depth)\n",
            "\u001b[0;31mParseError\u001b[0m: Failed to load JSON: Expecting value: line 1 column 1 (char 0)."
          ]
        }
      ],
      "source": [
        "# @markdown 1. Get your SFTP server url by hitting RUN and deploying VM Instance\n",
        "import os\n",
        "from ga4_data_import.compute import create_static_address, create_instance\n",
        "from ga4_data_import.storage import add_bucket_read_access\n",
        "\n",
        "GCP_PROJECT_ID = 'max-ostapenko'  #@param {type: \"string\"}\n",
        "ZONE = 'us-central1-a' #@param {type: \"string\"}\n",
        "INSTANCE_NAME = 'sftp-server' #@param {type: \"string\"}\n",
        "SFTP_USERNAME = 'sftp_user' #@param {type: \"string\"}\n",
        "\n",
        "#@markdown 2. Enter the name of your Google Cloud Storage Bucket\n",
        "BUCKET_NAME = 'sftp-server-ga4' #@param {type: \"string\"}\n",
        "\n",
        "!gcloud config set project {GCP_PROJECT_ID}\n",
        "if os.getenv(\"COLAB_RELEASE_TAG\"):\n",
        "    from google.colab import auth\n",
        "    auth.authenticate_user()\n",
        "#else:\n",
        "    #!gcloud auth application-default login\n",
        "\n",
        "INSTANCE_IP = \"35.208.180.229\" # create_static_address(instance_name, project_id, zone)\n",
        "\n",
        "create_instance(\n",
        "    project_id=GCP_PROJECT_ID,\n",
        "    zone=ZONE,\n",
        "    instance_name=INSTANCE_NAME,\n",
        "    static_address=INSTANCE_IP,\n",
        "    sftp_username=SFTP_USERNAME,\n",
        "    bucket_name=BUCKET_NAME\n",
        ")\n",
        "\n",
        "# Give READ access to a bucket to default VM Service Account\n",
        "add_bucket_read_access(GCP_PROJECT_ID, BUCKET_NAME)\n",
        "\n",
        "SFTP_URL = f\"sftp://{INSTANCE_IP}/123456789/cost_data/000000000000.csv\"\n",
        "print(f\"\"\"\\n\n",
        "Now you can enter your SFTP server url:\n",
        "    {SFTP_URL}\n",
        "Path example, where:\n",
        "- 123456789 - your property ID\n",
        "- cost_data - name of your data source\n",
        "- 000000000000.csv - file with data\"\"\")"
      ]
    },
    {
      "cell_type": "code",
      "execution_count": null,
      "metadata": {
        "cellView": "form",
        "id": "vAU86JRlTTsC"
      },
      "outputs": [],
      "source": [
        "from ga4_data_import.compute import add_shh_pub_key\n",
        "\n",
        "# @markdown 3. Paste and push Public Key from GA4 to SFTP server for authorisation\n",
        "KEY_VALUE = \"ssh-rsa AAAAB3NzaC1yc2EAAAADAQABAAABgQDeDrtHfPb8TM6/BqANwQJdSmAGjygLE+2jMdIxfJZFRdcEogMLMrEARhzj9fjRQKw7RhudOpxkyvMjVRXlv6zvcbvmJhQCxk6yp3Cgq3U7ux2PYppBWSxei1R4DH2TSjy/k/7nuKDvdDaBwUC/WLOgjvQ5nKLbYp53RbWoPrv63YEDDEyuLjMww9rlJ+J9iL/fd1TxlZxvwVvPCxweWCzfQfLP6MWGvDmUMfe7eTg11rt3p/wdNUa/RxKC1HOJRWloGCw7dX5LgZYoCq8tKOS8rpHt8BoTFhKjoPsIw8h4uNsjOb9y6YSOQrQFaXj3o2l4X0ssLxkKQcaG+EDZ8PtUr/WnuPpfHCuTNN1Q6TnaF2t2zm4J7C6LchPMgiP/vO+wwloQpgg9tUVGC4FZxQhHTLmCoW+19KIuBu4nm+zgaeIWXuHfnPLE4UdFsIB3o76tAfZprrykjaWVLPc6PFVlvRx1PIAPTL7dHaajnv1rxuQdQlNU2a2dOE4KNoxnffE= Google Analytics Data Import Key\"  # @param {type: \"string\"}\n",
        "add_shh_pub_key(GCP_PROJECT_ID, ZONE, INSTANCE_NAME, SFTP_USERNAME, KEY_VALUE)\n",
        "\n",
        "LOCAL_KEY = \"ssh-rsa AAAAB3NzaC1yc2EAAAADAQABAAACAQDIjG9uMbjXCMmJ6oLlI5rVlbm+eY2Ur42fCE542NAGwR64lEYmv2LkxPRzFnVU2mdF6+Ka4D8UyjM6D3fVkNfqQH8ckthcoMEgCNNK6tSU690I5YXAfGvCstGnljG4MwUWHkCFGXntqHPVnWjRfe0M88CusqazLy06VOr5hdfjTUXyxbyy4vx3kzBXE2oBXl0UZ33fI0/jHG3u6PULZ9kYu8jCXnNGp2b3ntgsMhitWTfj4GiSZF5wf6t4qDupgaW6OCrLJkgq9WS4OFdM4ZyHJadRff7KyHjsjtFoXzHOxhCrk4gj484HO86QyoA8jJE92o6k7OuVP9/Dl/w5n2jRtsvj0Fx2UJM3LH57XvflWWKOvfoYXl1v0Li78xnzLIgwDi282CHh31NNlbdm0Ux8AQXuQlLWd4R13sleLmdpqpcvrkCHktpvOIOvndar311CsPW3AvnHxNOKNAaJfE1UcP45AJ5TU6DrRJj9gAi+AJ/iET9W5XtKJOIk8JtHX6TwCXlSloZgPf+LOOscnYb5EQO93LCSyHQVwXuF35hV9DPFTXM+PUdhZCaPLwETjnoP8pQMYg1h8B6hCY9cXWlZQpxDyx4TUP/8vRuizX2oR5rLDG7p0P8x+IX6NtnuCQNockzl6DqXup/4o8SNVPHbC7Dv9uD9/zm9Pz7BK8TA+Q==\"\n",
        "add_shh_pub_key(GCP_PROJECT_ID, ZONE, INSTANCE_NAME, SFTP_USERNAME, LOCAL_KEY)\n"
      ]
    },
    {
      "cell_type": "markdown",
      "metadata": {
        "id": "lOtvsqDlUZLZ"
      },
      "source": [
        "## 3 Test your SFTP server connention\n",
        "\n",
        "1. Open [Google Cloud Shell terminal](https://shell.cloud.google.com/)\n",
        "\n",
        "2. Authorise local SSH Key on the server\n",
        "2. Connect to SFTP server\n",
        "3. Show available files"
      ]
    },
    {
      "cell_type": "code",
      "execution_count": null,
      "metadata": {
        "id": "mmYt0lY6UUoy"
      },
      "outputs": [],
      "source": [
        "#@markdown Press RUN\n",
        "import os\n",
        "from ga4_data_import.common import read_pub_key\n",
        "from ga4_data_import.compute import add_shh_pub_key\n",
        "\n",
        "ssh_key_file = os.path.expanduser(\"~/.ssh/id_rsa.pub\")\n",
        "if not os.path.isfile(ssh_key_file):\n",
        "    !ssh-keygen -t rsa -b 4096 -f ~/.ssh/id_rsa -N '' -q\n",
        "colab_sshpubkey = read_pub_key(ssh_key_file)\n",
        "\n",
        "#add_shh_pub_key(colab_sshpubkey + \" Google Colab\")\n",
        "#!ssh-keygen -R {INSTANCE_IP}\n",
        "#!sftp -v {SFTP_USERNAME}@{INSTANCE_IP}"
      ]
    }
  ],
  "metadata": {
    "colab": {
      "authorship_tag": "ABX9TyMaKr2JbUZfrAnXN73inaUk",
      "include_colab_link": true,
      "private_outputs": true,
      "provenance": [],
      "toc_visible": true
    },
    "kernelspec": {
      "display_name": "Python 3",
      "name": "python3"
    },
    "language_info": {
      "codemirror_mode": {
        "name": "ipython",
        "version": 3
      },
      "file_extension": ".py",
      "mimetype": "text/x-python",
      "name": "python",
      "nbconvert_exporter": "python",
      "pygments_lexer": "ipython3",
      "version": "3.9.2"
    }
  },
  "nbformat": 4,
  "nbformat_minor": 0
}
