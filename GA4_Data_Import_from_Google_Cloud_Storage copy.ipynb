{
  "cells": [
    {
      "attachments": {},
      "cell_type": "markdown",
      "metadata": {
        "colab_type": "text",
        "id": "view-in-github"
      },
      "source": [
        "<a href=\"https://colab.research.google.com/github/max-ostapenko/ga4_data_import/blob/main/GA4_Data_Import_from_Google_Cloud_Storage copy.ipynb\" target=\"_parent\"><img src=\"https://colab.research.google.com/assets/colab-badge.svg\" alt=\"Open In Colab\"/></a>"
      ]
    },
    {
      "cell_type": "code",
      "execution_count": 1,
      "metadata": {
        "id": "aJULqoitSins"
      },
      "outputs": [
        {
          "ename": "ModuleNotFoundError",
          "evalue": "No module named 'google'",
          "output_type": "error",
          "traceback": [
            "\u001b[0;31m---------------------------------------------------------------------------\u001b[0m",
            "\u001b[0;31mModuleNotFoundError\u001b[0m                       Traceback (most recent call last)",
            "Cell \u001b[0;32mIn[1], line 3\u001b[0m\n\u001b[1;32m      1\u001b[0m \u001b[39m#@title Some code here\u001b[39;00m\n\u001b[1;32m      2\u001b[0m \u001b[39m#from ga4_data_import.sftp_server import create_instance, add_shh_pub_key\u001b[39;00m\n\u001b[0;32m----> 3\u001b[0m \u001b[39mfrom\u001b[39;00m \u001b[39mga4_data_import\u001b[39;00m\u001b[39m.\u001b[39;00m\u001b[39mshared\u001b[39;00m \u001b[39mimport\u001b[39;00m get_project_number\n\u001b[1;32m      5\u001b[0m \u001b[39mprint\u001b[39m(get_project_number(\u001b[39m'\u001b[39m\u001b[39mmax-ostapenko\u001b[39m\u001b[39m'\u001b[39m))\n\u001b[1;32m      7\u001b[0m DEBUG \u001b[39m=\u001b[39m \u001b[39mFalse\u001b[39;00m\n",
            "File \u001b[0;32m/workspaces/ga4_data_import/ga4_data_import/shared.py:2\u001b[0m\n\u001b[0;32m----> 2\u001b[0m \u001b[39mfrom\u001b[39;00m \u001b[39mgoogle\u001b[39;00m\u001b[39m.\u001b[39;00m\u001b[39mcloud\u001b[39;00m \u001b[39mimport\u001b[39;00m resource_manager\n\u001b[1;32m      4\u001b[0m \u001b[39mdef\u001b[39;00m \u001b[39mget_project_number\u001b[39m(project_id):\n\u001b[1;32m      5\u001b[0m     client \u001b[39m=\u001b[39m resource_manager\u001b[39m.\u001b[39mClient()\n",
            "\u001b[0;31mModuleNotFoundError\u001b[0m: No module named 'google'"
          ]
        }
      ],
      "source": [
        "#@title Some code here\n",
        "#from ga4_data_import.sftp_server import create_instance, add_shh_pub_key\n",
        "from ga4_data_import.shared import get_project_number\n",
        "\n",
        "print(get_project_number('max-ostapenko'))\n",
        "\n",
        "DEBUG = False"
      ]
    },
    {
      "cell_type": "markdown",
      "metadata": {
        "id": "ly37FrEq-RjN"
      },
      "source": [
        "## 1 Start with documentation\n",
        "Read [the official documentation](https://support.google.com/analytics/answer/10071301) to have an idea about features and limitations of GA4 data import.\n"
      ]
    },
    {
      "cell_type": "markdown",
      "metadata": {
        "id": "4ePDtlq_6Abq"
      },
      "source": [
        "## 2 Create a Data Source in [GA4 Admin Panel](https://analytics.google.com/analytics/web/#/admin/data-import/)\n",
        "\n",
        "0. Follow [the guide on configuring SFTP data source](https://support.google.com/analytics/answer/10071301#import)"
      ]
    },
    {
      "cell_type": "code",
      "execution_count": null,
      "metadata": {
        "cellView": "form",
        "id": "HJpZb63S7SqI"
      },
      "outputs": [],
      "source": [
        "#@markdown 1. Get your SFTP server url by hitting RUN and deploying VM Instance\n",
        "GCP_PROJECT_ID = 'max-ostapenko'  #@param {type: \"string\"}\n",
        "ZONE = 'us-central1-a' #@param {type: \"string\"}\n",
        "REGION = \"-\".join(ZONE.split(\"-\")[:-1])\n",
        "INSTANCE_NAME = 'sftp-server' #@param {type: \"string\"}\n",
        "SFTP_USERNAME = 'sftp_user' #@param {type: \"string\"}\n",
        "\n",
        "from google.colab import auth\n",
        "auth.authenticate_user()\n",
        "!gcloud config set project {GCP_PROJECT_ID}\n",
        "\n",
        "[PROJECT_NUMBER] = !gcloud projects describe {GCP_PROJECT_ID} --format=\"value(projectNumber)\" \n",
        "\n",
        "#@markdown 2. Enter the name of your Google Cloud Storage Bucket\n",
        "BUCKET_NAME = 'sftp-server-ga4' #@param {type: \"string\"}\n",
        "\n",
        "INSTANCE_IP = create_instance()[\"networkInterfaces\"][0][\"accessConfigs\"][0][\"natIP\"]\n",
        "\n",
        "# Give READ access to a bucket to default VM Service Account\n",
        "!gcloud storage buckets add-iam-policy-binding gs://{BUCKET_NAME} \\\n",
        "    --member=serviceAccount:{PROJECT_NUMBER}-compute@developer.gserviceaccount.com \\\n",
        "    --role=roles/storage.objectViewer \\\n",
        "    --no-user-output-enabled\n",
        "\n",
        "SFTP_URL = f\"sftp://{INSTANCE_IP}/sftp/cost_data.csv\"\n",
        "\n",
        "print(f\"\"\"\\nNow you can enter your SFTP server url:\n",
        "    {SFTP_URL}\n",
        "cost_data.csv file has be located in the root of the GCS Bucket.\"\"\")"
      ]
    },
    {
      "cell_type": "code",
      "execution_count": null,
      "metadata": {
        "cellView": "form",
        "id": "vAU86JRlTTsC"
      },
      "outputs": [],
      "source": [
        "#@markdown 3. Paste and push Public Key from GA4 to SFTP server for authorisation\n",
        "KEY_VALUE = \"ssh-rsa AAAAB3NzaC1yc2EAAAADAQABAAABgQDeDrtHfPb8TM6/BqANwQJdSmAGjygLE+2jMdIxfJZFRdcEogMLMrEARhzj9fjRQKw7RhudOpxkyvMjVRXlv6zvcbvmJhQCxk6yp3Cgq3U7ux2PYppBWSxei1R4DH2TSjy/k/7nuKDvdDaBwUC/WLOgjvQ5nKLbYp53RbWoPrv63YEDDEyuLjMww9rlJ+J9iL/fd1TxlZxvwVvPCxweWCzfQfLP6MWGvDmUMfe7eTg11rt3p/wdNUa/RxKC1HOJRWloGCw7dX5LgZYoCq8tKOS8rpHt8BoTFhKjoPsIw8h4uNsjOb9y6YSOQrQFaXj3o2l4X0ssLxkKQcaG+EDZ8PtUr/WnuPpfHCuTNN1Q6TnaF2t2zm4J7C6LchPMgiP/vO+wwloQpgg9tUVGC4FZxQhHTLmCoW+19KIuBu4nm+zgaeIWXuHfnPLE4UdFsIB3o76tAfZprrykjaWVLPc6PFVlvRx1PIAPTL7dHaajnv1rxuQdQlNU2a2dOE4KNoxnffE= Google Analytics Data Import Key\"  #@param {type: \"string\"}\n",
        "add_shh_pub_key(KEY_VALUE)\n",
        "\n",
        "LOCAL_KEY = \"ssh-rsa AAAAB3NzaC1yc2EAAAADAQABAAACAQDIjG9uMbjXCMmJ6oLlI5rVlbm+eY2Ur42fCE542NAGwR64lEYmv2LkxPRzFnVU2mdF6+Ka4D8UyjM6D3fVkNfqQH8ckthcoMEgCNNK6tSU690I5YXAfGvCstGnljG4MwUWHkCFGXntqHPVnWjRfe0M88CusqazLy06VOr5hdfjTUXyxbyy4vx3kzBXE2oBXl0UZ33fI0/jHG3u6PULZ9kYu8jCXnNGp2b3ntgsMhitWTfj4GiSZF5wf6t4qDupgaW6OCrLJkgq9WS4OFdM4ZyHJadRff7KyHjsjtFoXzHOxhCrk4gj484HO86QyoA8jJE92o6k7OuVP9/Dl/w5n2jRtsvj0Fx2UJM3LH57XvflWWKOvfoYXl1v0Li78xnzLIgwDi282CHh31NNlbdm0Ux8AQXuQlLWd4R13sleLmdpqpcvrkCHktpvOIOvndar311CsPW3AvnHxNOKNAaJfE1UcP45AJ5TU6DrRJj9gAi+AJ/iET9W5XtKJOIk8JtHX6TwCXlSloZgPf+LOOscnYb5EQO93LCSyHQVwXuF35hV9DPFTXM+PUdhZCaPLwETjnoP8pQMYg1h8B6hCY9cXWlZQpxDyx4TUP/8vRuizX2oR5rLDG7p0P8x+IX6NtnuCQNockzl6DqXup/4o8SNVPHbC7Dv9uD9/zm9Pz7BK8TA+Q==\"\n",
        "add_shh_pub_key(LOCAL_KEY)"
      ]
    },
    {
      "cell_type": "markdown",
      "metadata": {
        "id": "lOtvsqDlUZLZ"
      },
      "source": [
        "## 3 Test your SFTP server connention\n",
        "\n",
        "1. Open [Google Cloud Shell terminal](https://shell.cloud.google.com/)\n",
        "\n",
        "2. Authorise local SSH Key on the server\n",
        "2. Connect to SFTP server\n",
        "3. Show available files"
      ]
    },
    {
      "cell_type": "code",
      "execution_count": null,
      "metadata": {
        "id": "mmYt0lY6UUoy"
      },
      "outputs": [],
      "source": [
        "#@markdown Press RUN\n",
        "if not os.path.isfile(\"/root/.ssh/id_rsa\"):\n",
        "    !ssh-keygen -t rsa -b 4096 -f ~/.ssh/id_rsa -N '' -q\n",
        "[colab_sshpubkey] = !cat ~/.ssh/id_rsa.pub | awk '{print $1\" \"$2}'\n",
        "add_shh_pub_key(colab_sshpubkey + \" Google Colab\")\n",
        "!ssh-keygen -R {INSTANCE_IP}\n",
        "!sftp -v {SFTP_USERNAME}@{INSTANCE_IP}"
      ]
    }
  ],
  "metadata": {
    "colab": {
      "authorship_tag": "ABX9TyMaKr2JbUZfrAnXN73inaUk",
      "include_colab_link": true,
      "private_outputs": true,
      "provenance": [],
      "toc_visible": true
    },
    "kernelspec": {
      "display_name": "Python 3",
      "name": "python3"
    },
    "language_info": {
      "codemirror_mode": {
        "name": "ipython",
        "version": 3
      },
      "file_extension": ".py",
      "mimetype": "text/x-python",
      "name": "python",
      "nbconvert_exporter": "python",
      "pygments_lexer": "ipython3",
      "version": "3.10.4"
    }
  },
  "nbformat": 4,
  "nbformat_minor": 0
}
