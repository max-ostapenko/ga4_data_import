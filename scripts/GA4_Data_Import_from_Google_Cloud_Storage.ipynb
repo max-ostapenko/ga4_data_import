{
  "cells": [
    {
      "cell_type": "markdown",
      "metadata": {
        "colab_type": "text",
        "id": "view-in-github"
      },
      "source": [
        "<a href=\"https://colab.research.google.com/github/max-ostapenko/ga4_data_import/blob/main/GA4_Data_Import_from_Google_Cloud_Storage.ipynb\" target=\"_parent\"><img src=\"https://colab.research.google.com/assets/colab-badge.svg\" alt=\"Open In Colab\"/></a>"
      ]
    },
    {
      "cell_type": "code",
      "execution_count": null,
      "metadata": {
        "id": "aJULqoitSins"
      },
      "outputs": [],
      "source": [
        "#@title Some code here\n",
        "import json\n",
        "import os\n",
        "import subprocess\n",
        "\n",
        "DEBUG = False\n",
        "\n",
        "\n",
        "def create_instance():\n",
        "    \"\"\"\n",
        "    Returns:\n",
        "        dict, https://cloud.google.com/compute/docs/reference/rest/v1/instances#resource:-instance\n",
        "    \"\"\"\n",
        "    statis_ip_create_cmd = f\"\"\"\n",
        "        gcloud compute addresses create {INSTANCE_NAME}-static \\\n",
        "            --project={GCP_PROJECT_ID} \\\n",
        "            --network-tier=STANDARD \\\n",
        "            --region={REGION} \\\n",
        "            --format='value(address)'\n",
        "    \"\"\"\n",
        "\n",
        "    #static_ip = subprocess.check_output(statis_ip_create_cmd, shell=True).decode().strip()\n",
        "    static_ip = \"35.208.180.229\"\n",
        "\n",
        "    startup_script = f\"\"\"\n",
        "#!/bin/bash\n",
        "\n",
        "SFTP_USERNAME={SFTP_USERNAME}\n",
        "BUCKET_NAME={BUCKET_NAME}\n",
        "\n",
        "# Install SFTP server\n",
        "apt-get update -y\n",
        "apt-get install -y openssh-server\n",
        "\n",
        "# Install gcloud\n",
        "# https://cloud.google.com/sdk/docs/install#installation_instructions\n",
        "echo \"deb [signed-by=/usr/share/keyrings/cloud.google.gpg] http://packages.cloud.google.com/apt cloud-sdk main\" | tee -a /etc/apt/sources.list.d/google-cloud-sdk.list\n",
        "curl https://packages.cloud.google.com/apt/doc/apt-key.gpg | tee /usr/share/keyrings/cloud.google.gpg\n",
        "apt-get update -y\n",
        "apt-get install google-cloud-sdk -y\n",
        "\n",
        "# Install gcsfuse\n",
        "# https://cloud.google.com/storage/docs/gcsfuse-quickstart-mount-bucket#install\n",
        "export GCSFUSE_REPO=gcsfuse-$(lsb_release -c -s)\n",
        "echo \"deb https://packages.cloud.google.com/apt $GCSFUSE_REPO main\" | sudo tee /etc/apt/sources.list.d/gcsfuse.list\n",
        "curl https://packages.cloud.google.com/apt/doc/apt-key.gpg | sudo apt-key add -\n",
        "sudo apt-get update -y\n",
        "sudo apt-get install -y fuse gcsfuse\n",
        "rm -rf /var/lib/apt/lists/*\n",
        "\n",
        "# Create user\n",
        "adduser $SFTP_USERNAME\n",
        "mkdir /home/$SFTP_USERNAME\n",
        "chown root:root /home/sftp_user\n",
        "sed -i \"s/^Subsystem\\tsftp.*/Subsystem\\tsftp internal-sftp/\" /etc/ssh/sshd_config\n",
        "tee -a /etc/ssh/sshd_config << EOM\n",
        "Match User $SFTP_USERNAME\n",
        "\\tForceCommand internal-sftp -d /sftp\n",
        "\\tChrootDirectory /home/%u\n",
        "\\tAllowTcpForwarding no\n",
        "\\tX11Forwarding no\n",
        "\\tPasswordAuthentication no\n",
        "\\tAuthenticationMethods publickey\n",
        "EOM\n",
        "systemctl restart ssh\n",
        "\n",
        "# Mount bucket\n",
        "sudo -u $SFTP_USERNAME mkdir /home/$SFTP_USERNAME/sftp\n",
        "sudo -u $SFTP_USERNAME gcsfuse $BUCKET_NAME /home/$SFTP_USERNAME/sftp\"\"\"\n",
        "    with open('startup.sh', 'w') as file:\n",
        "        file.write(startup_script)\n",
        "    \n",
        "    instance_create_cmd = f\"\"\"\n",
        "    gcloud compute instances create {INSTANCE_NAME} \\\n",
        "        --project={GCP_PROJECT_ID} \\\n",
        "        --zone={ZONE} \\\n",
        "        --machine-type=f1-micro \\\n",
        "        --network-interface=address={static_ip},network-tier=STANDARD,subnet=default \\\n",
        "        --maintenance-policy=MIGRATE \\\n",
        "        --provisioning-model=STANDARD \\\n",
        "        --service-account={PROJECT_NUMBER}-compute@developer.gserviceaccount.com \\\n",
        "        --scopes=https://www.googleapis.com/auth/devstorage.read_only,https://www.googleapis.com/auth/logging.write,https://www.googleapis.com/auth/monitoring.write,https://www.googleapis.com/auth/servicecontrol,https://www.googleapis.com/auth/service.management.readonly,https://www.googleapis.com/auth/trace.append \\\n",
        "        --tags=default-allow-ssh \\\n",
        "        --create-disk=auto-delete=yes,boot=yes,image=projects/debian-cloud/global/images/debian-11-bullseye-v20230509,mode=rw,size=10,type=projects/max-ostapenko/zones/us-central1-a/diskTypes/pd-balanced \\\n",
        "        --no-shielded-secure-boot \\\n",
        "        --shielded-vtpm \\\n",
        "        --shielded-integrity-monitoring \\\n",
        "        --labels=ec-src=vm_add-gcloud \\\n",
        "        --reservation-affinity=any \\\n",
        "        --metadata-from-file=startup-script=startup.sh \\\n",
        "        --format=json\n",
        "    \"\"\"\n",
        "    instance_info = json.loads(subprocess.check_output(instance_create_cmd, shell=True))[0]\n",
        "    \n",
        "    return instance_info\n",
        "\n",
        "\n",
        "def add_shh_pub_key(key):\n",
        "    \"\"\"\n",
        "    Args:\n",
        "        key: SSH public key value\n",
        "\n",
        "    \"\"\"\n",
        "    # Get the existing SSH keys from current instance metadata\n",
        "    instance_describe_cmd = f\"\"\"\n",
        "    gcloud compute instances describe {INSTANCE_NAME} \\\n",
        "        --project={GCP_PROJECT_ID} \\\n",
        "        --zone={ZONE} \\\n",
        "        --format='json(metadata)'\n",
        "    \"\"\"\n",
        "    metadata = json.loads(subprocess.check_output(instance_describe_cmd, shell=True))\n",
        "\n",
        "    existing_keys = \"\"\n",
        "    for metadata_item in metadata.get(\"metadata\",{}).get(\"items\",{}):\n",
        "        if metadata_item.get(\"key\",\"\") == \"ssh-keys\":\n",
        "            existing_keys = metadata_item.get(\"value\",\"\")\n",
        "            break\n",
        "    \n",
        "    new_key = f\"{SFTP_USERNAME}:{key}\".strip()\n",
        "    need_append = True\n",
        "    for key in existing_keys.splitlines():\n",
        "        key = key.strip()\n",
        "        if new_key == key:\n",
        "            need_append = False\n",
        "            break\n",
        "\n",
        "    # Append the new public key to the VM SSH keys\n",
        "    if DEBUG:\n",
        "        print(f\"\"\"Existing keys:\n",
        "{existing_keys}\n",
        "New key:\n",
        "{new_key}\n",
        "    \"\"\")\n",
        "\n",
        "    # Update the instance metadata with the new SSH keys\n",
        "    if need_append:\n",
        "        keys_file = \"keys.txt\"\n",
        "        with open(keys_file, \"w\") as file:\n",
        "            if existing_keys:\n",
        "                file.write(f\"{existing_keys}\\n{new_key}\")\n",
        "            else:\n",
        "                file.write(f\"{new_key}\")\n",
        "        !gcloud compute instances add-metadata {INSTANCE_NAME} --project={GCP_PROJECT_ID} --zone={ZONE} --metadata-from-file=ssh-keys={keys_file}\n",
        "        !rm keys.txt"
      ]
    },
    {
      "cell_type": "markdown",
      "metadata": {
        "id": "ly37FrEq-RjN"
      },
      "source": [
        "## 1 Start with documentation\n",
        "Read [the official documentation](https://support.google.com/analytics/answer/10071301) to have an idea about features and limitations of GA4 data import.\n"
      ]
    },
    {
      "cell_type": "markdown",
      "metadata": {
        "id": "4ePDtlq_6Abq"
      },
      "source": [
        "## 2 Create a Data Source in [GA4 Admin Panel](https://analytics.google.com/analytics/web/#/admin/data-import/)\n",
        "\n",
        "0. Follow [the guide on configuring SFTP data source](https://support.google.com/analytics/answer/10071301#import)"
      ]
    },
    {
      "cell_type": "code",
      "execution_count": null,
      "metadata": {
        "cellView": "form",
        "id": "HJpZb63S7SqI"
      },
      "outputs": [],
      "source": [
        "#@markdown 1. Get your SFTP server url by hitting RUN and deploying VM Instance\n",
        "GCP_PROJECT_ID = 'max-ostapenko'  #@param {type: \"string\"}\n",
        "ZONE = 'us-central1-a' #@param {type: \"string\"}\n",
        "REGION = \"-\".join(ZONE.split(\"-\")[:-1])\n",
        "INSTANCE_NAME = 'sftp-server' #@param {type: \"string\"}\n",
        "SFTP_USERNAME = 'sftp_user' #@param {type: \"string\"}\n",
        "\n",
        "from google.colab import auth\n",
        "auth.authenticate_user()\n",
        "!gcloud config set project {GCP_PROJECT_ID}\n",
        "\n",
        "[PROJECT_NUMBER] = !gcloud projects describe {GCP_PROJECT_ID} --format=\"value(projectNumber)\" \n",
        "\n",
        "#@markdown 2. Enter the name of your Google Cloud Storage Bucket\n",
        "BUCKET_NAME = 'sftp-server-ga4' #@param {type: \"string\"}\n",
        "\n",
        "INSTANCE_IP = create_instance()[\"networkInterfaces\"][0][\"accessConfigs\"][0][\"natIP\"]\n",
        "\n",
        "# Give READ access to a bucket to default VM Service Account\n",
        "!gcloud storage buckets add-iam-policy-binding gs://{BUCKET_NAME} \\\n",
        "    --member=serviceAccount:{PROJECT_NUMBER}-compute@developer.gserviceaccount.com \\\n",
        "    --role=roles/storage.objectViewer \\\n",
        "    --no-user-output-enabled\n",
        "\n",
        "SFTP_URL = f\"sftp://{INSTANCE_IP}/sftp/cost_data.csv\"\n",
        "\n",
        "print(f\"\"\"\\nNow you can enter your SFTP server url:\n",
        "    {SFTP_URL}\n",
        "cost_data.csv file has be located in the root of the GCS Bucket.\"\"\")"
      ]
    },
    {
      "cell_type": "code",
      "execution_count": null,
      "metadata": {
        "cellView": "form",
        "id": "vAU86JRlTTsC"
      },
      "outputs": [],
      "source": [
        "#@markdown 3. Paste and push Public Key from GA4 to SFTP server for authorisation\n",
        "KEY_VALUE = \"ssh-rsa AAAAB3NzaC1yc2EAAAADAQABAAABgQDeDrtHfPb8TM6/BqANwQJdSmAGjygLE+2jMdIxfJZFRdcEogMLMrEARhzj9fjRQKw7RhudOpxkyvMjVRXlv6zvcbvmJhQCxk6yp3Cgq3U7ux2PYppBWSxei1R4DH2TSjy/k/7nuKDvdDaBwUC/WLOgjvQ5nKLbYp53RbWoPrv63YEDDEyuLjMww9rlJ+J9iL/fd1TxlZxvwVvPCxweWCzfQfLP6MWGvDmUMfe7eTg11rt3p/wdNUa/RxKC1HOJRWloGCw7dX5LgZYoCq8tKOS8rpHt8BoTFhKjoPsIw8h4uNsjOb9y6YSOQrQFaXj3o2l4X0ssLxkKQcaG+EDZ8PtUr/WnuPpfHCuTNN1Q6TnaF2t2zm4J7C6LchPMgiP/vO+wwloQpgg9tUVGC4FZxQhHTLmCoW+19KIuBu4nm+zgaeIWXuHfnPLE4UdFsIB3o76tAfZprrykjaWVLPc6PFVlvRx1PIAPTL7dHaajnv1rxuQdQlNU2a2dOE4KNoxnffE= Google Analytics Data Import Key\"  #@param {type: \"string\"}\n",
        "add_shh_pub_key(KEY_VALUE)\n",
        "\n",
        "LOCAL_KEY = \"ssh-rsa AAAAB3NzaC1yc2EAAAADAQABAAACAQDIjG9uMbjXCMmJ6oLlI5rVlbm+eY2Ur42fCE542NAGwR64lEYmv2LkxPRzFnVU2mdF6+Ka4D8UyjM6D3fVkNfqQH8ckthcoMEgCNNK6tSU690I5YXAfGvCstGnljG4MwUWHkCFGXntqHPVnWjRfe0M88CusqazLy06VOr5hdfjTUXyxbyy4vx3kzBXE2oBXl0UZ33fI0/jHG3u6PULZ9kYu8jCXnNGp2b3ntgsMhitWTfj4GiSZF5wf6t4qDupgaW6OCrLJkgq9WS4OFdM4ZyHJadRff7KyHjsjtFoXzHOxhCrk4gj484HO86QyoA8jJE92o6k7OuVP9/Dl/w5n2jRtsvj0Fx2UJM3LH57XvflWWKOvfoYXl1v0Li78xnzLIgwDi282CHh31NNlbdm0Ux8AQXuQlLWd4R13sleLmdpqpcvrkCHktpvOIOvndar311CsPW3AvnHxNOKNAaJfE1UcP45AJ5TU6DrRJj9gAi+AJ/iET9W5XtKJOIk8JtHX6TwCXlSloZgPf+LOOscnYb5EQO93LCSyHQVwXuF35hV9DPFTXM+PUdhZCaPLwETjnoP8pQMYg1h8B6hCY9cXWlZQpxDyx4TUP/8vRuizX2oR5rLDG7p0P8x+IX6NtnuCQNockzl6DqXup/4o8SNVPHbC7Dv9uD9/zm9Pz7BK8TA+Q==\"\n",
        "add_shh_pub_key(LOCAL_KEY)"
      ]
    },
    {
      "cell_type": "markdown",
      "metadata": {
        "id": "lOtvsqDlUZLZ"
      },
      "source": [
        "## 3 Test your SFTP server connention\n",
        "\n",
        "1. Open [Google Cloud Shell terminal](https://shell.cloud.google.com/)\n",
        "\n",
        "2. Authorise local SSH Key on the server\n",
        "2. Connect to SFTP server\n",
        "3. Show available files"
      ]
    },
    {
      "cell_type": "code",
      "execution_count": null,
      "metadata": {
        "id": "mmYt0lY6UUoy"
      },
      "outputs": [],
      "source": [
        "#@markdown Press RUN\n",
        "if not os.path.isfile(\"/root/.ssh/id_rsa\"):\n",
        "    !ssh-keygen -t rsa -b 4096 -f ~/.ssh/id_rsa -N '' -q\n",
        "[colab_sshpubkey] = !cat ~/.ssh/id_rsa.pub | awk '{print $1\" \"$2}'\n",
        "add_shh_pub_key(colab_sshpubkey + \" Google Colab\")\n",
        "!ssh-keygen -R {INSTANCE_IP}\n",
        "!sftp -v {SFTP_USERNAME}@{INSTANCE_IP}"
      ]
    }
  ],
  "metadata": {
    "colab": {
      "authorship_tag": "ABX9TyMaKr2JbUZfrAnXN73inaUk",
      "include_colab_link": true,
      "private_outputs": true,
      "provenance": [],
      "toc_visible": true
    },
    "kernelspec": {
      "display_name": "Python 3",
      "name": "python3"
    },
    "language_info": {
      "name": "python"
    }
  },
  "nbformat": 4,
  "nbformat_minor": 0
}
