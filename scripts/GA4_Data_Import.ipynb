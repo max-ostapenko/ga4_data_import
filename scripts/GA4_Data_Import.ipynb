{
  "cells": [
    {
      "attachments": {},
      "cell_type": "markdown",
      "metadata": {
        "id": "view-in-github"
      },
      "source": [
        "<a href=\"https://colab.research.google.com/github/max-ostapenko/ga4_data_import/blob/main/scripts/GA4_Data_Import.ipynb\" target=\"_parent\"><img src=\"https://colab.research.google.com/assets/colab-badge.svg\" alt=\"Open In Colab\"/></a>"
      ]
    },
    {
      "cell_type": "code",
      "execution_count": null,
      "metadata": {
        "cellView": "form",
        "id": "HJpZb63S7SqI"
      },
      "outputs": [],
      "source": [
        "# @markdown 1. Authenticate Google Colab to your GCP project {display-mode: \"form\"}\n",
        "# Or run `gcloud auth application-default login` in terminal if you don't use Colab\n",
        "\n",
        "from google.colab import auth\n",
        "auth.authenticate_user()\n",
        "\n",
        "!pip install ga4-data-import -q"
      ]
    },
    {
      "cell_type": "code",
      "execution_count": null,
      "metadata": {
        "cellView": "form",
        "id": "CjGzK9ZKLKQa"
      },
      "outputs": [],
      "source": [
        "# @markdown 2. Define the input variables {display-mode: \"form\"}\n",
        "from uuid import uuid4\n",
        "\n",
        "GCP_PROJECT_ID = \"max-ostapenko\"  # @param {type: \"string\"}\n",
        "ZONE = \"us-central1-a\"  # @param {type: \"string\"}\n",
        "INSTANCE_NAME = \"sftp-server-ga4\"  # @param {type: \"string\"}\n",
        "BUCKET_NAME = \"sftp-bucket-ga4\"  # @param {type: \"string\"}\n",
        "SFTP_USERNAME = uuid4().hex  # @param {type: \"string\"}\n",
        "\n",
        "REGION = ZONE[:-2]\n",
        "\n",
        "!gcloud config set project {GCP_PROJECT_ID}"
      ]
    },
    {
      "cell_type": "code",
      "execution_count": null,
      "metadata": {},
      "outputs": [],
      "source": [
        "# @markdown 3. Reserve static IP for your server {display-mode: \"form\"}\n",
        "from ga4_data_import.compute import create_static_address\n",
        "\n",
        "INSTANCE_IP = create_static_address(GCP_PROJECT_ID, REGION, instance_name=INSTANCE_NAME)\n",
        "print(\n",
        "    f\"\"\"Instance IP `{INSTANCE_IP}` is reserved in your project: https://console.cloud.google.com/networking/addresses/list?project={GCP_PROJECT_ID}\"\"\"\n",
        ")\n"
      ]
    },
    {
      "cell_type": "code",
      "execution_count": null,
      "metadata": {
        "cellView": "form",
        "id": "FNvGeLyCLuM-"
      },
      "outputs": [],
      "source": [
        "# @markdown 4. Create VM Instance for SFTP server and GCS bucket. Mount a bucket as read-only on SFTP server. {display-mode: \"form\"}\n",
        "from ga4_data_import.compute import create_instance\n",
        "from ga4_data_import.storage import create_bucket, add_bucket_read_access\n",
        "\n",
        "instance = create_instance(\n",
        "    instance_name=INSTANCE_NAME,\n",
        "    project_id=GCP_PROJECT_ID,\n",
        "    zone=ZONE,\n",
        "    static_address=INSTANCE_IP,\n",
        "    bucket_name=BUCKET_NAME,\n",
        "    sftp_username=SFTP_USERNAME,\n",
        ")\n",
        "print(\n",
        "    f\"\"\"VM instance `{INSTANCE_NAME}` is available in your project: https://console.cloud.google.com/compute/instancesDetail/zones/{ZONE}/instances/{INSTANCE_NAME}?project={GCP_PROJECT_ID}\"\"\"\n",
        ")\n",
        "\n",
        "print(f\"\"\"Now you can enter connection settings to Data Import UI:\n",
        "    Server Username: {SFTP_USERNAME}\"\"\")\n",
        "\n",
        "SERVICE_ACCOUNT_EMAIL = instance.service_accounts[0].email\n",
        "\n",
        "create_bucket(BUCKET_NAME, REGION)\n",
        "add_bucket_read_access(BUCKET_NAME, SERVICE_ACCOUNT_EMAIL)\n",
        "print(\n",
        "    f\"\"\"Bucket `{BUCKET_NAME}` is available in your project: https://console.cloud.google.com/storage/browser/{BUCKET_NAME}?project={GCP_PROJECT_ID}\"\"\"\n",
        ")\n"
      ]
    },
    {
      "cell_type": "code",
      "execution_count": null,
      "metadata": {
        "cellView": "form",
        "id": "vAU86JRlTTsC"
      },
      "outputs": [],
      "source": [
        "# @markdown 5. Paste and push Public Key from GA4 to SFTP server for authorisation {display-mode: \"form\"}\n",
        "from ga4_data_import.compute import add_server_pub_key\n",
        "\n",
        "KEY_VALUE = \"ssh-rsa AAAAB3NzaC1yc2EAAAADAQABAAABgQDeDrtHfPb8TM6/BqANwQJdSmAGjygLE+2jMdIxfJZFRdcEogMLMrEARhzj9fjRQKw7RhudOpxkyvMjVRXlv6zvcbvmJhQCxk6yp3Cgq3U7ux2PYppBWSxei1R4DH2TSjy/k/7nuKDvdDaBwUC/WLOgjvQ5nKLbYp53RbWoPrv63YEDDEyuLjMww9rlJ+J9iL/fd1TxlZxvwVvPCxweWCzfQfLP6MWGvDmUMfe7eTg11rt3p/wdNUa/RxKC1HOJRWloGCw7dX5LgZYoCq8tKOS8rpHt8BoTFhKjoPsIw8h4uNsjOb9y6YSOQrQFaXj3o2l4X0ssLxkKQcaG+EDZ8PtUr/WnuPpfHCuTNN1Q6TnaF2t2zm4J7C6LchPMgiP/vO+wwloQpgg9tUVGC4FZxQhHTLmCoW+19KIuBu4nm+zgaeIWXuHfnPLE4UdFsIB3o76tAfZprrykjaWVLPc6PFVlvRx1PIAPTL7dHaajnv1rxuQdQlNU2a2dOE4KNoxnffE= Google Analytics Data Import Key\"  # @param {type: \"string\"}\n",
        "add_server_pub_key(\n",
        "    GCP_PROJECT_ID,\n",
        "    ZONE,\n",
        "    instance_name=INSTANCE_NAME,\n",
        "    key=KEY_VALUE,\n",
        "    sftp_username=SFTP_USERNAME,\n",
        ")\n",
        "print(\n",
        "    f\"\"\"Public Key is added to your SFTP server. Now you can connect to your SFTP server with your private key.\"\"\"\n",
        ")\n"
      ]
    },
    {
      "cell_type": "code",
      "execution_count": null,
      "metadata": {},
      "outputs": [],
      "source": [
        "# @markdown 6. Automate and schedule data export from BigQuery to GCS {display-mode: \"form\"}\n",
        "from ga4_data_import.workflow import deploy_workflow, deploy_scheduler\n",
        "\n",
        "WORKFLOW_ID = \"BQ-to-GCS\" # @param {type: \"string\"}\n",
        "SCHEDULER_ID = \"Cost-Data-Export_at_8amUTC\" # @param {type: \"string\"}\n",
        "SCHEDULE = \"* 8 * * *\" # @param {type: \"string\"}\n",
        "QUERY = \"SELECT * FROM `max-ostapenko.Public.cost_data`\" # @param {type: \"string\"}\n",
        "STORAGE_OBJECT = \"cost_data.csv\" # @param {type: \"string\"}\n",
        "\n",
        "deploy_workflow(\n",
        "    GCP_PROJECT_ID,\n",
        "    REGION,\n",
        "    workflow_id=WORKFLOW_ID,\n",
        "    service_account_email=SERVICE_ACCOUNT_EMAIL,\n",
        ")\n",
        "\n",
        "deploy_scheduler(\n",
        "    GCP_PROJECT_ID,\n",
        "    REGION,\n",
        "    scheduler_id=SCHEDULER_ID,\n",
        "    service_account_email=SERVICE_ACCOUNT_EMAIL,\n",
        "    schedule=SCHEDULE,\n",
        "    workflow_id=WORKFLOW_ID,\n",
        "    query=QUERY,\n",
        "    storage_path=f\"gs://{BUCKET_NAME}/{STORAGE_OBJECT}\",\n",
        ")\n",
        "\n",
        "print(\n",
        "    f\"\"\"Workflow and trigger are deployed. Now you can test your data export: https://console.cloud.google.com/cloudscheduler?project={GCP_PROJECT_ID}\"\"\"\n",
        ")\n",
        "\n",
        "print(f\"\"\"Now you can enter connection settings to Data Import UI:\n",
        "    Server Username: {SFTP_USERNAME}\n",
        "    Server url: sftp://{INSTANCE_IP}/{STORAGE_OBJECT}\"\"\")"
      ]
    }
  ],
  "metadata": {
    "colab": {
      "private_outputs": true,
      "provenance": [],
      "toc_visible": true
    },
    "kernelspec": {
      "display_name": "Python 3",
      "name": "python3"
    },
    "language_info": {
      "codemirror_mode": {
        "name": "ipython",
        "version": 3
      },
      "file_extension": ".py",
      "mimetype": "text/x-python",
      "name": "python",
      "nbconvert_exporter": "python",
      "pygments_lexer": "ipython3",
      "version": "3.9.2"
    }
  },
  "nbformat": 4,
  "nbformat_minor": 0
}
