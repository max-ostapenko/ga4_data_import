{
  "cells": [
    {
      "cell_type": "markdown",
      "metadata": {
        "id": "view-in-github"
      },
      "source": [
        "<a href=\"https://colab.research.google.com/github/max-ostapenko/ga4_data_import/blob/main/scripts/GCS_to_GA4.ipynb\" target=\"_parent\"><img src=\"https://colab.research.google.com/assets/colab-badge.svg\" alt=\"Open In Colab\"/></a>"
      ]
    },
    {
      "cell_type": "code",
      "execution_count": null,
      "metadata": {
        "cellView": "form",
        "id": "HJpZb63S7SqI"
      },
      "outputs": [],
      "source": [
        "# @markdown 1. Authenticate Google Colab to your GCP project\n",
        "# Or run `gcloud auth application-default login` in terminal if you don't use Colab\n",
        "import os\n",
        "\n",
        "if os.getenv(\"COLAB_RELEASE_TAG\"):\n",
        "    !gcloud config set project {GCP_PROJECT_ID}\n",
        "    from google.colab import auth\n",
        "    auth.authenticate_user()\n",
        "    !pip install -q git+https://github.com/max-ostapenko/ga4_data_import.git\n",
        "else:\n",
        "    %pip install -q -e ../"
      ]
    },
    {
      "cell_type": "code",
      "execution_count": null,
      "metadata": {
        "cellView": "form",
        "id": "CjGzK9ZKLKQa"
      },
      "outputs": [],
      "source": [
        "# @markdown 2. Define the input variables\n",
        "GCP_PROJECT_ID = \"max-ostapenko\"  # @param {type: \"string\"}\n",
        "ZONE = \"us-central1-a\"  # @param {type: \"string\"}\n",
        "INSTANCE_NAME = \"sftp-server-ga4\"  # @param {type: \"string\"}\n",
        "BUCKET_NAME = \"sftp-bucket-ga4\"  # @param {type: \"string\"}\n",
        "SFTP_USERNAME = \"sftp-user-ga4\"  # @param {type: \"string\"}\n",
        "\n",
        "REGION = ZONE[:-2]\n"
      ]
    },
    {
      "cell_type": "code",
      "execution_count": null,
      "metadata": {},
      "outputs": [],
      "source": [
        "# @markdown 3. Reserve static IP for your server\n",
        "from ga4_data_import.compute import create_static_address\n",
        "\n",
        "INSTANCE_IP = create_static_address(GCP_PROJECT_ID, REGION, INSTANCE_NAME)\n",
        "\n",
        "print(\n",
        "    f\"\"\"Instance IP `{INSTANCE_IP}` is reserved in your project: https://console.cloud.google.com/networking/addresses/list?project={GCP_PROJECT_ID}\"\"\"\n",
        ")\n"
      ]
    },
    {
      "cell_type": "code",
      "execution_count": null,
      "metadata": {
        "cellView": "form",
        "id": "FNvGeLyCLuM-"
      },
      "outputs": [],
      "source": [
        "# @markdown 4. Create VM Instance for SFTP server and GCS bucket. Mount a bucket as read-only on SFTP server.\n",
        "from ga4_data_import.compute import create_instance\n",
        "from ga4_data_import.storage import create_bucket, add_bucket_read_access\n",
        "\n",
        "instance = create_instance(\n",
        "    project_id=GCP_PROJECT_ID,\n",
        "    zone=ZONE,\n",
        "    instance_name=INSTANCE_NAME,\n",
        "    static_address=INSTANCE_IP,\n",
        "    bucket_name=BUCKET_NAME,\n",
        "    sftp_username=SFTP_USERNAME,\n",
        ")\n",
        "\n",
        "create_bucket(BUCKET_NAME, REGION)\n",
        "add_bucket_read_access(BUCKET_NAME, instance.service_accounts[0].email)\n",
        "\n",
        "print(\n",
        "    f\"\"\"VM instance `{INSTANCE_NAME}` is available in your project: https://console.cloud.google.com/compute/instancesDetail/zones/{ZONE}/instances/{INSTANCE_NAME}?project={GCP_PROJECT_ID}\"\"\"\n",
        ")\n",
        "print(\n",
        "    f\"\"\"Bucket `{BUCKET_NAME}` is available in your project: https://console.cloud.google.com/storage/browser/{BUCKET_NAME}?project={GCP_PROJECT_ID}\"\"\"\n",
        ")\n",
        "\n",
        "print(\n",
        "    f\"\"\"\\n\n",
        "Now you can enter your SFTP server url to Data Import UI:\n",
        "    sftp://{INSTANCE_IP}/cost_data.csv\n",
        "where `cost_data.csv` - name of a file in the bucket root\"\"\"\n",
        ")\n"
      ]
    },
    {
      "cell_type": "code",
      "execution_count": null,
      "metadata": {
        "cellView": "form",
        "id": "vAU86JRlTTsC"
      },
      "outputs": [],
      "source": [
        "# @markdown 5. Paste and push Public Key from GA4 to SFTP server for authorisation\n",
        "from ga4_data_import.compute import add_server_pub_key\n",
        "\n",
        "KEY_VALUE = \"ssh-rsa AAAAB3NzaC1yc2EAAAADAQABAAABgQDeDrtHfPb8TM6/BqANwQJdSmAGjygLE+2jMdIxfJZFRdcEogMLMrEARhzj9fjRQKw7RhudOpxkyvMjVRXlv6zvcbvmJhQCxk6yp3Cgq3U7ux2PYppBWSxei1R4DH2TSjy/k/7nuKDvdDaBwUC/WLOgjvQ5nKLbYp53RbWoPrv63YEDDEyuLjMww9rlJ+J9iL/fd1TxlZxvwVvPCxweWCzfQfLP6MWGvDmUMfe7eTg11rt3p/wdNUa/RxKC1HOJRWloGCw7dX5LgZYoCq8tKOS8rpHt8BoTFhKjoPsIw8h4uNsjOb9y6YSOQrQFaXj3o2l4X0ssLxkKQcaG+EDZ8PtUr/WnuPpfHCuTNN1Q6TnaF2t2zm4J7C6LchPMgiP/vO+wwloQpgg9tUVGC4FZxQhHTLmCoW+19KIuBu4nm+zgaeIWXuHfnPLE4UdFsIB3o76tAfZprrykjaWVLPc6PFVlvRx1PIAPTL7dHaajnv1rxuQdQlNU2a2dOE4KNoxnffE= Google Analytics Data Import Key\"  # @param {type: \"string\"}\n",
        "add_server_pub_key(\n",
        "    GCP_PROJECT_ID,\n",
        "    ZONE,\n",
        "    INSTANCE_NAME,\n",
        "    KEY_VALUE,\n",
        "    SFTP_USERNAME,\n",
        ")\n",
        "\n",
        "print(\n",
        "    f\"\"\"Public Key is added to your SFTP server. Now you can connect to your SFTP server with your private key.\"\"\"\n",
        ")\n"
      ]
    }
  ],
  "metadata": {
    "colab": {
      "private_outputs": true,
      "provenance": [],
      "toc_visible": true
    },
    "kernelspec": {
      "display_name": "Python 3",
      "name": "python3"
    },
    "language_info": {
      "codemirror_mode": {
        "name": "ipython",
        "version": 3
      },
      "file_extension": ".py",
      "mimetype": "text/x-python",
      "name": "python",
      "nbconvert_exporter": "python",
      "pygments_lexer": "ipython3",
      "version": "3.9.2"
    }
  },
  "nbformat": 4,
  "nbformat_minor": 0
}
