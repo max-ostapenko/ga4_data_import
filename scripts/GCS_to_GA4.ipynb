{
  "cells": [
    {
      "cell_type": "markdown",
      "metadata": {
        "id": "view-in-github"
      },
      "source": [
        "<a href=\"https://colab.research.google.com/github/max-ostapenko/ga4_data_import/blob/main/scripts/GCS_to_GA4.ipynb\" target=\"_parent\"><img src=\"https://colab.research.google.com/assets/colab-badge.svg\" alt=\"Open In Colab\"/></a>"
      ]
    },
    {
      "cell_type": "code",
      "execution_count": 1,
      "metadata": {
        "cellView": "form",
        "id": "CjGzK9ZKLKQa"
      },
      "outputs": [],
      "source": [
        "# @markdown 1. Define the input variables\n",
        "!pip install git+https://github.com/max-ostapenko/ga4_data_import.git -q\n",
        "\n",
        "GCP_PROJECT_ID = 'max-ostapenko'  #@param {type: \"string\"}\n",
        "ZONE = 'us-central1-a' #@param {type: \"string\"}\n",
        "INSTANCE_NAME = 'sftp-server' #@param {type: \"string\"}\n",
        "SFTP_USERNAME = 'sftp-user' #@param {type: \"string\"}\n",
        "BUCKET_NAME = 'sftp-server-ga4' #@param {type: \"string\"}"
      ]
    },
    {
      "cell_type": "code",
      "execution_count": null,
      "metadata": {
        "cellView": "form",
        "id": "HJpZb63S7SqI"
      },
      "outputs": [],
      "source": [
        "# @markdown 2. Authenticate Google Colab to your GCP project\n",
        "# Or run `gcloud auth application-default login` in terminal if you don't use Colab\n",
        "import os\n",
        "\n",
        "if os.getenv(\"COLAB_RELEASE_TAG\"):\n",
        "    !gcloud config set project {GCP_PROJECT_ID}\n",
        "    from google.colab import auth\n",
        "    auth.authenticate_user()"
      ]
    },
    {
      "cell_type": "code",
      "execution_count": 3,
      "metadata": {},
      "outputs": [
        {
          "name": "stdout",
          "output_type": "stream",
          "text": [
            "Instance IP 35.208.143.124 is reserved in your project: https://console.cloud.google.com/networking/addresses/list?project=max-ostapenko\n"
          ]
        }
      ],
      "source": [
        "#@markdown 3. Reserve static IP for your server\n",
        "from ga4_data_import.compute import create_static_address\n",
        "\n",
        "INSTANCE_IP = create_static_address(GCP_PROJECT_ID, ZONE, INSTANCE_NAME)\n",
        "\n",
        "print(f\"\"\"Instance IP `{INSTANCE_IP}` is reserved in your project: https://console.cloud.google.com/networking/addresses/list?project={GCP_PROJECT_ID}\"\"\")"
      ]
    },
    {
      "cell_type": "code",
      "execution_count": 8,
      "metadata": {
        "cellView": "form",
        "id": "FNvGeLyCLuM-"
      },
      "outputs": [
        {
          "name": "stdout",
          "output_type": "stream",
          "text": [
            "VM instance `sftp-server` is created in your project: https://console.cloud.google.com/compute/instancesDetail/zones/us-central1-a/instances/sftp-server?project=max-ostapenko\n",
            "Bucket []`sftp-server-ga4`](https://console.cloud.google.com/storage/browser/sftp-server-ga4?project=max-ostapenko) is created\n",
            "\n",
            "\n",
            "Now you can enter your SFTP server url to Data Import UI:\n",
            "    sftp://35.208.143.124/cost_data.csv\n",
            "where `cost_data.csv` - name of a file in the bucket root\n"
          ]
        }
      ],
      "source": [
        "#@markdown 4. Create VM Instance for SFTP server and GCS bucket. Mount a bucket as read-only on SFTP server.\n",
        "from ga4_data_import.compute import create_instance\n",
        "from ga4_data_import.storage import add_bucket_read_access\n",
        "\n",
        "create_instance(\n",
        "    project_id=GCP_PROJECT_ID,\n",
        "    zone=ZONE,\n",
        "    instance_name=INSTANCE_NAME,\n",
        "    static_address=INSTANCE_IP,\n",
        "    sftp_username=SFTP_USERNAME,\n",
        "    bucket_name=BUCKET_NAME\n",
        ")\n",
        "\n",
        "add_bucket_read_access(GCP_PROJECT_ID, BUCKET_NAME)\n",
        "\n",
        "print(f\"\"\"VM instance `{INSTANCE_NAME}` is created in your project: https://console.cloud.google.com/compute/instancesDetail/zones/{ZONE}/instances/{INSTANCE_NAME}?project={GCP_PROJECT_ID}\"\"\")\n",
        "print(f\"\"\"Bucket `{BUCKET_NAME}` is created in your project: https://console.cloud.google.com/storage/browser/{BUCKET_NAME}?project={GCP_PROJECT_ID}\"\"\")\n",
        "\n",
        "print(f\"\"\"\\n\n",
        "Now you can enter your SFTP server url to Data Import UI:\n",
        "    sftp://{INSTANCE_IP}/cost_data.csv\n",
        "where `cost_data.csv` - name of a file in the bucket root\"\"\")"
      ]
    },
    {
      "cell_type": "code",
      "execution_count": 9,
      "metadata": {
        "cellView": "form",
        "id": "vAU86JRlTTsC"
      },
      "outputs": [
        {
          "name": "stdout",
          "output_type": "stream",
          "text": [
            "Public Key is added to your SFTP server. Now you can connect to your SFTP server with your private key.\n"
          ]
        }
      ],
      "source": [
        "# @markdown 5. Paste and push Public Key from GA4 to SFTP server for authorisation\n",
        "from ga4_data_import.compute import add_shh_pub_key\n",
        "\n",
        "KEY_VALUE = \"ssh-rsa A......= Google Analytics Data Import Key\"  # @param {type: \"string\"}\n",
        "add_shh_pub_key(GCP_PROJECT_ID, ZONE, INSTANCE_NAME, SFTP_USERNAME, KEY_VALUE)\n",
        "\n",
        "print(f\"\"\"Public Key is added to your SFTP server. Now you can connect to your SFTP server with your private key.\"\"\")"
      ]
    },
    {
      "cell_type": "code",
      "execution_count": null,
      "metadata": {
        "cellView": "form",
        "id": "mmYt0lY6UUoy"
      },
      "outputs": [],
      "source": [
        "#@markdown 6. Test your SFTP connention\n",
        "import os\n",
        "from ga4_data_import.common import read_pub_key\n",
        "from ga4_data_import.compute import add_shh_pub_key\n",
        "\n",
        "# Authorise local SSH Key on the server\n",
        "ssh_key_file = os.path.expanduser(\"~/.ssh/id_rsa.pub\")\n",
        "if not os.path.isfile(ssh_key_file):\n",
        "    !ssh-keygen -t rsa -b 4096 -f ~/.ssh/id_rsa -N '' -q\n",
        "colab_sshpubkey = read_pub_key(ssh_key_file)\n",
        "add_shh_pub_key(GCP_PROJECT_ID, ZONE, INSTANCE_NAME, SFTP_USERNAME, colab_sshpubkey + \" Developer's Key\")\n",
        "\n",
        "# Connect to SFTP server\n",
        "!ssh-keygen -R {INSTANCE_IP}\n",
        "!sftp {SFTP_USERNAME}@{INSTANCE_IP} -y"
      ]
    }
  ],
  "metadata": {
    "colab": {
      "private_outputs": true,
      "provenance": [],
      "toc_visible": true
    },
    "kernelspec": {
      "display_name": "Python 3",
      "name": "python3"
    },
    "language_info": {
      "codemirror_mode": {
        "name": "ipython",
        "version": 3
      },
      "file_extension": ".py",
      "mimetype": "text/x-python",
      "name": "python",
      "nbconvert_exporter": "python",
      "pygments_lexer": "ipython3",
      "version": "3.9.2"
    }
  },
  "nbformat": 4,
  "nbformat_minor": 0
}
