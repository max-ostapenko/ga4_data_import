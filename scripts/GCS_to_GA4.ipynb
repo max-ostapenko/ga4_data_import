{
  "cells": [
    {
      "attachments": {},
      "cell_type": "markdown",
      "metadata": {
        "colab_type": "text",
        "id": "view-in-github"
      },
      "source": [
        "<a href=\"https://colab.research.google.com/github/max-ostapenko/ga4_data_import/blob/main/scripts/GCS_to_GA4.ipynb\" target=\"_parent\"><img src=\"https://colab.research.google.com/assets/colab-badge.svg\" alt=\"Open In Colab\"/></a>"
      ]
    },
    {
      "cell_type": "markdown",
      "metadata": {
        "id": "ly37FrEq-RjN"
      },
      "source": [
        "## 1 Start with documentation\n",
        "Read [the official documentation](https://support.google.com/analytics/answer/10071301) to have an idea about features and limitations of GA4 data import.\n"
      ]
    },
    {
      "cell_type": "markdown",
      "metadata": {
        "id": "4ePDtlq_6Abq"
      },
      "source": [
        "## 2 Create a Data Source in [GA4 Admin Panel](https://analytics.google.com/analytics/web/#/admin/data-import/)\n",
        "\n",
        "0. Follow [the guide on configuring SFTP data source](https://support.google.com/analytics/answer/10071301#import)"
      ]
    },
    {
      "cell_type": "code",
      "execution_count": 1,
      "metadata": {
        "cellView": "form",
        "id": "HJpZb63S7SqI"
      },
      "outputs": [
        {
          "name": "stdout",
          "output_type": "stream",
          "text": [
            "Updated property [core/project].\n",
            "\n",
            "\n",
            "Now you can enter your SFTP server url to Data Import UI:\n",
            "- simple: sftp://35.208.180.229/cost_data.csv\n",
            "\n",
            "where `cost_data.csv` - name of a file in the bucket root\n"
          ]
        }
      ],
      "source": [
        "# @markdown 1. Get your SFTP server url by deploying VM Instance\n",
        "import os\n",
        "\n",
        "GCP_PROJECT_ID = 'max-ostapenko'  #@param {type: \"string\"}\n",
        "ZONE = 'us-central1-a' #@param {type: \"string\"}\n",
        "INSTANCE_NAME = 'sftp-server' #@param {type: \"string\"}\n",
        "SFTP_USERNAME = 'sftp_user' #@param {type: \"string\"}\n",
        "\n",
        "!gcloud config set project {GCP_PROJECT_ID}\n",
        "if os.getenv(\"COLAB_RELEASE_TAG\"):\n",
        "    !pip install git+https://github.com/max-ostapenko/ga4_data_import.git\n",
        "    from google.colab import auth\n",
        "    auth.authenticate_user()\n",
        "#else:\n",
        "    #!gcloud auth application-default login\n",
        "\n",
        "from ga4_data_import.compute import create_static_address, create_instance\n",
        "from ga4_data_import.storage import add_bucket_read_access\n",
        "\n",
        "\n",
        "\n",
        "#@markdown 2. Enter the name of your Cloud Storage Bucket to mount it as read-only on SFTP server\n",
        "BUCKET_NAME = 'sftp-server-ga4' #@param {type: \"string\"}\n",
        "\n",
        "INSTANCE_IP = \"35.208.180.229\"  # create_static_address(GCP_PROJECT_ID, ZONE, INSTANCE_NAME)\n",
        "\n",
        "\n",
        "create_instance(\n",
        "    project_id=GCP_PROJECT_ID,\n",
        "    zone=ZONE,\n",
        "    instance_name=INSTANCE_NAME,\n",
        "    static_address=INSTANCE_IP,\n",
        "    sftp_username=SFTP_USERNAME,\n",
        "    bucket_name=BUCKET_NAME\n",
        ")\n",
        "\n",
        "\n",
        "# Give READ access to a bucket to default VM Service Account\n",
        "add_bucket_read_access(GCP_PROJECT_ID, BUCKET_NAME)\n",
        "\n",
        "print(f\"\"\"\\n\n",
        "Now you can enter your SFTP server url to Data Import UI:\n",
        "    sftp://{INSTANCE_IP}/cost_data.csv\n",
        "where `cost_data.csv` - name of a file in the bucket root\"\"\")"
      ]
    },
    {
      "cell_type": "code",
      "execution_count": 2,
      "metadata": {
        "cellView": "form",
        "id": "vAU86JRlTTsC"
      },
      "outputs": [],
      "source": [
        "from ga4_data_import.compute import add_shh_pub_key\n",
        "\n",
        "# @markdown 3. Paste and push Public Key from GA4 to SFTP server for authorisation\n",
        "KEY_VALUE = \"ssh-rsa AAAAB3NzaC1yc2EAAAADAQABAAABgQDeDrtHfPb8TM6/BqANwQJdSmAGjygLE+2jMdIxfJZFRdcEogMLMrEARhzj9fjRQKw7RhudOpxkyvMjVRXlv6zvcbvmJhQCxk6yp3Cgq3U7ux2PYppBWSxei1R4DH2TSjy/k/7nuKDvdDaBwUC/WLOgjvQ5nKLbYp53RbWoPrv63YEDDEyuLjMww9rlJ+J9iL/fd1TxlZxvwVvPCxweWCzfQfLP6MWGvDmUMfe7eTg11rt3p/wdNUa/RxKC1HOJRWloGCw7dX5LgZYoCq8tKOS8rpHt8BoTFhKjoPsIw8h4uNsjOb9y6YSOQrQFaXj3o2l4X0ssLxkKQcaG+EDZ8PtUr/WnuPpfHCuTNN1Q6TnaF2t2zm4J7C6LchPMgiP/vO+wwloQpgg9tUVGC4FZxQhHTLmCoW+19KIuBu4nm+zgaeIWXuHfnPLE4UdFsIB3o76tAfZprrykjaWVLPc6PFVlvRx1PIAPTL7dHaajnv1rxuQdQlNU2a2dOE4KNoxnffE= Google Analytics Data Import Key\"  # @param {type: \"string\"}\n",
        "add_shh_pub_key(GCP_PROJECT_ID, ZONE, INSTANCE_NAME, SFTP_USERNAME, KEY_VALUE)\n",
        "\n",
        "LOCAL_KEY = \"ssh-rsa AAAAB3NzaC1yc2EAAAADAQABAAACAQDIjG9uMbjXCMmJ6oLlI5rVlbm+eY2Ur42fCE542NAGwR64lEYmv2LkxPRzFnVU2mdF6+Ka4D8UyjM6D3fVkNfqQH8ckthcoMEgCNNK6tSU690I5YXAfGvCstGnljG4MwUWHkCFGXntqHPVnWjRfe0M88CusqazLy06VOr5hdfjTUXyxbyy4vx3kzBXE2oBXl0UZ33fI0/jHG3u6PULZ9kYu8jCXnNGp2b3ntgsMhitWTfj4GiSZF5wf6t4qDupgaW6OCrLJkgq9WS4OFdM4ZyHJadRff7KyHjsjtFoXzHOxhCrk4gj484HO86QyoA8jJE92o6k7OuVP9/Dl/w5n2jRtsvj0Fx2UJM3LH57XvflWWKOvfoYXl1v0Li78xnzLIgwDi282CHh31NNlbdm0Ux8AQXuQlLWd4R13sleLmdpqpcvrkCHktpvOIOvndar311CsPW3AvnHxNOKNAaJfE1UcP45AJ5TU6DrRJj9gAi+AJ/iET9W5XtKJOIk8JtHX6TwCXlSloZgPf+LOOscnYb5EQO93LCSyHQVwXuF35hV9DPFTXM+PUdhZCaPLwETjnoP8pQMYg1h8B6hCY9cXWlZQpxDyx4TUP/8vRuizX2oR5rLDG7p0P8x+IX6NtnuCQNockzl6DqXup/4o8SNVPHbC7Dv9uD9/zm9Pz7BK8TA+Q==\"\n",
        "add_shh_pub_key(GCP_PROJECT_ID, ZONE, INSTANCE_NAME, SFTP_USERNAME, LOCAL_KEY)\n"
      ]
    },
    {
      "cell_type": "markdown",
      "metadata": {
        "id": "lOtvsqDlUZLZ"
      },
      "source": [
        "## 3 Test your SFTP server connention\n",
        "\n",
        "1. Open [Google Cloud Shell terminal](https://shell.cloud.google.com/)\n",
        "\n",
        "2. Authorise local SSH Key on the server\n",
        "2. Connect to SFTP server\n",
        "3. Show available files"
      ]
    },
    {
      "cell_type": "code",
      "execution_count": 3,
      "metadata": {
        "id": "mmYt0lY6UUoy"
      },
      "outputs": [
        {
          "name": "stdout",
          "output_type": "stream",
          "text": [
            "Host 35.208.180.229 not found in /home/vscode/.ssh/known_hosts\n",
            "The authenticity of host '35.208.180.229 (35.208.180.229)' can't be established.\n",
            "ECDSA key fingerprint is SHA256:HBhfakafhoyr9ZUfvKuwxPieYlnhNNHRQcZhs+Gj2Kw.\n",
            "Are you sure you want to continue connecting (yes/no/[fingerprint])? ^C\n",
            "Host key verification failed.\n"
          ]
        }
      ],
      "source": [
        "#@markdown Press RUN\n",
        "import os\n",
        "from ga4_data_import.common import read_pub_key\n",
        "from ga4_data_import.compute import add_shh_pub_key\n",
        "\n",
        "ssh_key_file = os.path.expanduser(\"~/.ssh/id_rsa.pub\")\n",
        "if not os.path.isfile(ssh_key_file):\n",
        "    !ssh-keygen -t rsa -b 4096 -f ~/.ssh/id_rsa -N '' -q\n",
        "colab_sshpubkey = read_pub_key(ssh_key_file)\n",
        "\n",
        "add_shh_pub_key(GCP_PROJECT_ID, ZONE, INSTANCE_NAME, SFTP_USERNAME, colab_sshpubkey + \" Developer's Key\")\n",
        "!ssh-keygen -R {INSTANCE_IP}\n",
        "!sftp {SFTP_USERNAME}@{INSTANCE_IP} -y"
      ]
    },
    {
      "cell_type": "code",
      "execution_count": 1,
      "metadata": {},
      "outputs": [
        {
          "name": "stdout",
          "output_type": "stream",
          "text": [
            "Defaulting to user installation because normal site-packages is not writeable\n",
            "Collecting git+https://github.com/max-ostapenko/ga4_data_import.git\n",
            "  Cloning https://github.com/max-ostapenko/ga4_data_import.git to /tmp/pip-req-build-2e2dmy60\n",
            "  Running command git clone --filter=blob:none --quiet https://github.com/max-ostapenko/ga4_data_import.git /tmp/pip-req-build-2e2dmy60\n",
            "  Resolved https://github.com/max-ostapenko/ga4_data_import.git to commit 91ece0e6723f5cebf58846b957f0b410fc88427c\n",
            "  Preparing metadata (setup.py) ... \u001b[?25ldone\n",
            "\u001b[?25hRequirement already satisfied: google-cloud-compute in /home/vscode/.local/lib/python3.9/site-packages (from ga4-data-import==0.1.0) (1.11.0)\n",
            "Requirement already satisfied: google-cloud-resource-manager in /home/vscode/.local/lib/python3.9/site-packages (from ga4-data-import==0.1.0) (1.10.1)\n",
            "Requirement already satisfied: google-cloud-storage in /home/vscode/.local/lib/python3.9/site-packages (from ga4-data-import==0.1.0) (2.9.0)\n",
            "Requirement already satisfied: google-api-core[grpc]!=2.0.*,!=2.1.*,!=2.10.*,!=2.2.*,!=2.3.*,!=2.4.*,!=2.5.*,!=2.6.*,!=2.7.*,!=2.8.*,!=2.9.*,<3.0.0dev,>=1.34.0 in /home/vscode/.local/lib/python3.9/site-packages (from google-cloud-compute->ga4-data-import==0.1.0) (2.11.0)\n",
            "Requirement already satisfied: proto-plus<2.0.0dev,>=1.22.0 in /home/vscode/.local/lib/python3.9/site-packages (from google-cloud-compute->ga4-data-import==0.1.0) (1.22.2)\n",
            "Requirement already satisfied: protobuf!=3.20.0,!=3.20.1,!=4.21.0,!=4.21.1,!=4.21.2,!=4.21.3,!=4.21.4,!=4.21.5,<5.0.0dev,>=3.19.5 in /home/vscode/.local/lib/python3.9/site-packages (from google-cloud-compute->ga4-data-import==0.1.0) (4.23.2)\n",
            "Requirement already satisfied: grpc-google-iam-v1<1.0.0dev,>=0.12.4 in /home/vscode/.local/lib/python3.9/site-packages (from google-cloud-resource-manager->ga4-data-import==0.1.0) (0.12.6)\n",
            "Requirement already satisfied: google-auth<3.0dev,>=1.25.0 in /home/vscode/.local/lib/python3.9/site-packages (from google-cloud-storage->ga4-data-import==0.1.0) (2.19.0)\n",
            "Requirement already satisfied: google-cloud-core<3.0dev,>=2.3.0 in /home/vscode/.local/lib/python3.9/site-packages (from google-cloud-storage->ga4-data-import==0.1.0) (2.3.2)\n",
            "Requirement already satisfied: google-resumable-media>=2.3.2 in /home/vscode/.local/lib/python3.9/site-packages (from google-cloud-storage->ga4-data-import==0.1.0) (2.5.0)\n",
            "Requirement already satisfied: requests<3.0.0dev,>=2.18.0 in /home/vscode/.local/lib/python3.9/site-packages (from google-cloud-storage->ga4-data-import==0.1.0) (2.31.0)\n",
            "Requirement already satisfied: googleapis-common-protos<2.0dev,>=1.56.2 in /home/vscode/.local/lib/python3.9/site-packages (from google-api-core[grpc]!=2.0.*,!=2.1.*,!=2.10.*,!=2.2.*,!=2.3.*,!=2.4.*,!=2.5.*,!=2.6.*,!=2.7.*,!=2.8.*,!=2.9.*,<3.0.0dev,>=1.34.0->google-cloud-compute->ga4-data-import==0.1.0) (1.59.0)\n",
            "Requirement already satisfied: grpcio<2.0dev,>=1.33.2 in /home/vscode/.local/lib/python3.9/site-packages (from google-api-core[grpc]!=2.0.*,!=2.1.*,!=2.10.*,!=2.2.*,!=2.3.*,!=2.4.*,!=2.5.*,!=2.6.*,!=2.7.*,!=2.8.*,!=2.9.*,<3.0.0dev,>=1.34.0->google-cloud-compute->ga4-data-import==0.1.0) (1.54.2)\n",
            "Requirement already satisfied: grpcio-status<2.0dev,>=1.33.2 in /home/vscode/.local/lib/python3.9/site-packages (from google-api-core[grpc]!=2.0.*,!=2.1.*,!=2.10.*,!=2.2.*,!=2.3.*,!=2.4.*,!=2.5.*,!=2.6.*,!=2.7.*,!=2.8.*,!=2.9.*,<3.0.0dev,>=1.34.0->google-cloud-compute->ga4-data-import==0.1.0) (1.54.2)\n",
            "Requirement already satisfied: cachetools<6.0,>=2.0.0 in /home/vscode/.local/lib/python3.9/site-packages (from google-auth<3.0dev,>=1.25.0->google-cloud-storage->ga4-data-import==0.1.0) (5.3.1)\n",
            "Requirement already satisfied: pyasn1-modules>=0.2.1 in /home/vscode/.local/lib/python3.9/site-packages (from google-auth<3.0dev,>=1.25.0->google-cloud-storage->ga4-data-import==0.1.0) (0.3.0)\n",
            "Requirement already satisfied: rsa<5,>=3.1.4 in /home/vscode/.local/lib/python3.9/site-packages (from google-auth<3.0dev,>=1.25.0->google-cloud-storage->ga4-data-import==0.1.0) (4.9)\n",
            "Requirement already satisfied: six>=1.9.0 in /home/vscode/.local/lib/python3.9/site-packages (from google-auth<3.0dev,>=1.25.0->google-cloud-storage->ga4-data-import==0.1.0) (1.16.0)\n",
            "Requirement already satisfied: urllib3<2.0 in /home/vscode/.local/lib/python3.9/site-packages (from google-auth<3.0dev,>=1.25.0->google-cloud-storage->ga4-data-import==0.1.0) (1.26.16)\n",
            "Requirement already satisfied: google-crc32c<2.0dev,>=1.0 in /home/vscode/.local/lib/python3.9/site-packages (from google-resumable-media>=2.3.2->google-cloud-storage->ga4-data-import==0.1.0) (1.5.0)\n",
            "Requirement already satisfied: charset-normalizer<4,>=2 in /home/vscode/.local/lib/python3.9/site-packages (from requests<3.0.0dev,>=2.18.0->google-cloud-storage->ga4-data-import==0.1.0) (3.1.0)\n",
            "Requirement already satisfied: idna<4,>=2.5 in /home/vscode/.local/lib/python3.9/site-packages (from requests<3.0.0dev,>=2.18.0->google-cloud-storage->ga4-data-import==0.1.0) (3.4)\n",
            "Requirement already satisfied: certifi>=2017.4.17 in /home/vscode/.local/lib/python3.9/site-packages (from requests<3.0.0dev,>=2.18.0->google-cloud-storage->ga4-data-import==0.1.0) (2023.5.7)\n",
            "Requirement already satisfied: pyasn1<0.6.0,>=0.4.6 in /home/vscode/.local/lib/python3.9/site-packages (from pyasn1-modules>=0.2.1->google-auth<3.0dev,>=1.25.0->google-cloud-storage->ga4-data-import==0.1.0) (0.5.0)\n",
            "Building wheels for collected packages: ga4-data-import\n",
            "  Building wheel for ga4-data-import (setup.py) ... \u001b[?25ldone\n",
            "\u001b[?25h  Created wheel for ga4-data-import: filename=ga4_data_import-0.1.0-py3-none-any.whl size=13461 sha256=c723bfa2ef2e7c40b62a89a45249d2407ff84b9c73c8661f72f8700c093570ce\n",
            "  Stored in directory: /tmp/pip-ephem-wheel-cache-3s5_o1ny/wheels/c7/f6/37/9237e077574970fbb70fb499d00c5de5bcf94b7fb6975e0967\n",
            "Successfully built ga4-data-import\n",
            "Installing collected packages: ga4-data-import\n",
            "Successfully installed ga4-data-import-0.1.0\n"
          ]
        }
      ],
      "source": [
        "!pip install git+https://github.com/max-ostapenko/ga4_data_import.git"
      ]
    }
  ],
  "metadata": {
    "colab": {
      "authorship_tag": "ABX9TyMaKr2JbUZfrAnXN73inaUk",
      "include_colab_link": true,
      "private_outputs": true,
      "provenance": [],
      "toc_visible": true
    },
    "kernelspec": {
      "display_name": "Python 3",
      "name": "python3"
    },
    "language_info": {
      "codemirror_mode": {
        "name": "ipython",
        "version": 3
      },
      "file_extension": ".py",
      "mimetype": "text/x-python",
      "name": "python",
      "nbconvert_exporter": "python",
      "pygments_lexer": "ipython3",
      "version": "3.9.2"
    }
  },
  "nbformat": 4,
  "nbformat_minor": 0
}
